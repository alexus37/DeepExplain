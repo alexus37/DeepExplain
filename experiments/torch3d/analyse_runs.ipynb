{
 "cells": [
  {
   "cell_type": "code",
   "execution_count": 1,
   "metadata": {},
   "outputs": [],
   "source": [
    "import numpy as np\n",
    "\n",
    "import matplotlib.pyplot as plt\n",
    "import seaborn as sns\n",
    "import pandas as pd\n",
    "\n",
    "import os\n",
    "import copy\n",
    "from run_config import Run_types, Run_settings\n",
    "\n",
    "from pytorch3d_utils import (\n",
    "    mitsuba_scene_to_torch_3d_no_ground, \n",
    "    where, \n",
    "    add_background_batch, \n",
    "    get_body_image_from_mesh,\n",
    "    get_scenes_filenames,\n",
    "    get_background_filenames,\n",
    "    pose_loss_single_human,\n",
    "    pose_loss_single_human_full_fail,\n",
    "    pose_loss_detection_distance\n",
    ")\n",
    "\n",
    "\n",
    "import torch\n",
    "import matplotlib.pyplot as plt\n",
    "import xml.dom.minidom\n",
    "from skimage.io import imread\n",
    "from skimage import img_as_ubyte\n",
    "from pyrr import Matrix44, Vector4, Vector3\n",
    "import pyrr\n",
    "\n",
    "# Util function for loading meshes\n",
    "from pytorch3d.io import load_objs_as_meshes\n",
    "\n",
    "# Data structures and functions for rendering\n",
    "from pytorch3d.structures import Meshes, Textures\n",
    "from pytorch3d.renderer import (\n",
    "    OpenGLPerspectiveCameras, \n",
    "    BlendParams,\n",
    "    PointLights, \n",
    "    DirectionalLights, \n",
    "    Materials, \n",
    "    RasterizationSettings, \n",
    "    MeshRenderer, \n",
    "    MeshRasterizer,  \n",
    "    TexturedSoftPhongShader,\n",
    "    HardPhongShader,\n",
    "    SoftSilhouetteShader\n",
    ")\n",
    "\n",
    "\n",
    "from pytorch3d.renderer.cameras import look_at_view_transform\n",
    "\n",
    "from torch_openpose.body import Body\n",
    "from torch_openpose import util\n",
    "import numpy as np\n",
    "from matplotlib import pyplot as plt\n",
    "from matplotlib import cm\n",
    "\n",
    "from tqdm import tqdm\n",
    "import torch.nn as nn\n",
    "import imageio\n",
    "import cv2\n",
    "import copy\n",
    "import glob\n",
    "import random\n",
    "\n",
    "import wandb\n",
    "\n",
    "# add path for demo utils functions \n",
    "import sys\n",
    "import os\n",
    "sys.path.append(os.path.abspath(''))\n",
    "import pytorch3d"
   ]
  },
  {
   "cell_type": "code",
   "execution_count": 2,
   "metadata": {},
   "outputs": [],
   "source": [
    "def get_image_and_score(\n",
    "        test_mesh, \n",
    "        test_camera,\n",
    "        test_opt, \n",
    "        texTshirt, \n",
    "        texOther, \n",
    "        body_estimation, \n",
    "        renderer,\n",
    "        silhouette_renderer,\n",
    "        orig_shape = (512, 512, 3)\n",
    "    ):\n",
    "    test_backgrounds = get_background_filenames('../data/backgrounds/test/')\n",
    "    test_background = random.sample(test_backgrounds, 1)[0]\n",
    "    (canvas_orig, \n",
    "     candidate_orig,\n",
    "     subset_orig,\n",
    "     heatmap_avg_orig,\n",
    "     paf_avg_orig) = get_body_image_from_mesh(\n",
    "        test_mesh, \n",
    "        body_estimation, \n",
    "        renderer,         \n",
    "        silhouette_renderer,\n",
    "        orig_shape, \n",
    "        test_background,\n",
    "        test_camera\n",
    "        )\n",
    "\n",
    "    tex = torch.cat([texTshirt, texOther]).repeat(1, 1, 1)\n",
    "    textures = Textures(verts_rgb=tex.cuda())    \n",
    "    noise_mesh = Meshes(verts=[test_opt[\"verticies\"]], faces=[test_opt[\"faces\"]], textures=textures)\n",
    "    \n",
    "    (canvas_noise, \n",
    "     candidate_noise,\n",
    "     subset_noise,\n",
    "     heatmap_avg_noise,\n",
    "     paf_avg_noise) = get_body_image_from_mesh(\n",
    "        noise_mesh, \n",
    "        body_estimation, \n",
    "        renderer,         \n",
    "        silhouette_renderer,\n",
    "        orig_shape, \n",
    "        test_background,\n",
    "        test_camera\n",
    "        )\n",
    "    \n",
    "    metric = pose_loss_single_human(subset_noise, subset_orig)\n",
    "    total_fail_metric = pose_loss_single_human_full_fail(subset_noise, subset_orig)\n",
    "    distance_metric = pose_loss_detection_distance(subset_noise, subset_orig, candidate_noise, candidate_orig)\n",
    "    \n",
    "    return canvas_orig, canvas_noise, metric, total_fail_metric, distance_metric\n"
   ]
  },
  {
   "cell_type": "code",
   "execution_count": 3,
   "metadata": {},
   "outputs": [],
   "source": [
    "# Setup\n",
    "device = torch.device(\"cuda:0\")\n",
    "torch.cuda.set_device(device)\n",
    "DATA_ROOT = 'data/radek'\n",
    "ORIG_SHAPE = (512, 512, 3)\n",
    "\n",
    "master_scene = 'data/radek/00008_mesh88_animated.xml'\n",
    "mesh, cameras, optmization_input = mitsuba_scene_to_torch_3d_no_ground(master_scene, DATA_ROOT)\n",
    "\n",
    "raster_settings = RasterizationSettings(image_size=512, blur_radius=0.0, faces_per_pixel=1)\n",
    "lights = PointLights(device=device, location=[[0.0, 0.0, 3.0]])\n",
    "\n",
    "renderer = MeshRenderer(\n",
    "    rasterizer=MeshRasterizer(\n",
    "        cameras=cameras, \n",
    "        raster_settings=raster_settings\n",
    "    ), \n",
    "    shader=HardPhongShader(\n",
    "        device=device, \n",
    "        cameras=cameras, \n",
    "        lights=lights\n",
    "    )\n",
    ")\n",
    "\n",
    "blend_params = BlendParams(sigma=1e-4, gamma=1e-4)\n",
    "silhouette_renderer = MeshRenderer(\n",
    "    rasterizer=MeshRasterizer(\n",
    "        cameras=cameras, \n",
    "        raster_settings=raster_settings\n",
    "    ),\n",
    "    shader=SoftSilhouetteShader(blend_params=blend_params)\n",
    ")\n",
    "\n",
    "\n",
    "body_estimation = Body('/home/ax/data/programs/pytorch-openpose/model/body_pose_model.pth', True)\n",
    "\n",
    "# set defaults\n",
    "body_estimation.imageToTest_padded_shape = ORIG_SHAPE\n",
    "body_estimation.pad = [0, 0, 0, 0]"
   ]
  },
  {
   "cell_type": "code",
   "execution_count": 7,
   "metadata": {},
   "outputs": [
    {
     "name": "stderr",
     "output_type": "stream",
     "text": [
      "100%|██████████| 200/200 [00:00<00:00, 1208733.14it/s]\n",
      "  0%|          | 0/200 [00:00<?, ?it/s]"
     ]
    },
    {
     "name": "stdout",
     "output_type": "stream",
     "text": [
      "Running: all_heat_paf_l2_loss\n",
      "SNAPSHOT_NAME=../snapshots/vertex_color_bg_tshirt_torch.npy\n"
     ]
    },
    {
     "name": "stderr",
     "output_type": "stream",
     "text": [
      "100%|██████████| 200/200 [04:13<00:00,  1.27s/it]\n",
      "100%|██████████| 200/200 [00:00<00:00, 1366222.80it/s]\n",
      "  0%|          | 0/200 [00:00<?, ?it/s]"
     ]
    },
    {
     "name": "stdout",
     "output_type": "stream",
     "text": [
      "Running: all_heat_paf_l2_reg_loss\n",
      "SNAPSHOT_NAME=../snapshots/vertex_color_bg_lp_tshirt_torch.npy\n"
     ]
    },
    {
     "name": "stderr",
     "output_type": "stream",
     "text": [
      "100%|██████████| 200/200 [04:08<00:00,  1.24s/it]\n",
      "100%|██████████| 200/200 [00:00<00:00, 1298546.13it/s]\n",
      "  0%|          | 0/200 [00:00<?, ?it/s]"
     ]
    },
    {
     "name": "stdout",
     "output_type": "stream",
     "text": [
      "Running: all_heat_paf_kl_loss\n",
      "SNAPSHOT_NAME=../snapshots/vertex_color_bg_kl_tshirt_torch.npy\n"
     ]
    },
    {
     "name": "stderr",
     "output_type": "stream",
     "text": [
      "100%|██████████| 200/200 [03:59<00:00,  1.20s/it]\n"
     ]
    }
   ],
   "source": [
    "canvas_orig_list_list = []\n",
    "canvas_noise_list_list = []\n",
    "metric_list_list = []\n",
    "total_fail_metric_list_list = []\n",
    "distance_metric_list_list = []\n",
    "\n",
    "\n",
    "\n",
    "for run_type in Run_types:\n",
    "    print(f\"Running: {run_type.name}\")\n",
    "    \n",
    "    run_settings = Run_settings(run_type)\n",
    "    _, test_dir, SNAPSHOT_NAME = run_settings.get_settings()\n",
    "    test_scenes = get_scenes_filenames(test_dir)\n",
    "    print(f\"SNAPSHOT_NAME={SNAPSHOT_NAME}\")\n",
    "    \n",
    "    texTshirt_np = np.load(SNAPSHOT_NAME)\n",
    "    texTshirt = torch.from_numpy(texTshirt_np).cuda()\n",
    "    tex2 = torch.ones((6449, 3)).cuda()\n",
    "    # person\n",
    "    tex2[:, 0] *= 0.88\n",
    "    tex2[:, 1] *= 0.67\n",
    "    tex2[:, 2] *= 0.41\n",
    "    canvas_orig_list = []\n",
    "    canvas_noise_list = []\n",
    "    metric_list = []\n",
    "    total_fail_metric_list = []\n",
    "    distance_metric_list = []\n",
    "    \n",
    "    for test_scene in tqdm(test_scenes):\n",
    "        test_mesh, test_camera, test_opt = mitsuba_scene_to_torch_3d_no_ground(test_scene, test_dir)\n",
    "        \n",
    "        \n",
    "        canvas_orig, canvas_noise, metric, total_fail_metric, distance_metric  = get_image_and_score(\n",
    "            test_mesh, \n",
    "            test_camera,\n",
    "            test_opt,\n",
    "            texTshirt, \n",
    "            tex2,\n",
    "            body_estimation, \n",
    "            renderer,\n",
    "            silhouette_renderer\n",
    "        )\n",
    "\n",
    "        canvas_orig_list.append(canvas_orig)\n",
    "        canvas_noise_list.append(canvas_noise)\n",
    "        metric_list.append(metric)\n",
    "        total_fail_metric_list.append(total_fail_metric)\n",
    "        distance_metric_list.append(distance_metric)\n",
    "        \n",
    "    metric_list_filtered, total_fail_metric_list_filtered, distance_metric_list_filtered = zip(*(\n",
    "    (metric, \n",
    "     total_fail_metric, \n",
    "     distance_metric) for metric, total_fail_metric, distance_metric in zip(\n",
    "        metric_list, \n",
    "        total_fail_metric_list, \n",
    "        distance_metric_list) if metric >= 0\n",
    "        )\n",
    "    )\n",
    "        \n",
    "    \n",
    "    metric_list_list.append(metric_list_filtered)\n",
    "    total_fail_metric_list_list.append(total_fail_metric_list_filtered)\n",
    "    distance_metric_list_list.append(distance_metric_list_filtered)"
   ]
  },
  {
   "cell_type": "code",
   "execution_count": 8,
   "metadata": {},
   "outputs": [],
   "source": [
    "run_names = list(map(lambda c: c.name, Run_types))\n",
    "df = pd.DataFrame.from_records(\n",
    "    data=np.transpose(np.array(metric_list_list)), \n",
    "    columns=run_names\n",
    ")\n"
   ]
  },
  {
   "cell_type": "code",
   "execution_count": 37,
   "metadata": {},
   "outputs": [
    {
     "data": {
      "image/png": "[encoded data removed]",
      "text/plain": [
       "<Figure size 1440x720 with 2 Axes>"
      ]
     },
     "metadata": {
      "needs_background": "light"
     },
     "output_type": "display_data"
    }
   ],
   "source": [
    "fig, (ax1, ax2)  = plt.subplots(nrows=1, ncols=2, figsize=(20, 10))\n",
    "ax1 = sns.boxplot(data=df, orient=\"v\", ax=ax1)\n",
    "ax1.set(title = 'Error distriubtion')\n",
    "\n",
    "df_means = pd.DataFrame({\n",
    "    \"run_names\": run_names, \n",
    "    \"metric_avg\": df.mean()\n",
    "    })\n",
    "ax2.grid(True)\n",
    "sns.barplot(x='run_names',  y='metric_avg', data=df_means, orient = 'v', ax=ax2)\n",
    "\n",
    "ax2.set(title = 'Basic failure metric average')\n",
    "ax2.set_ylim(0, 1)\n",
    "\n",
    "fig.savefig(\"../results/pytorch3d/basic_metric.png\")"
   ]
  },
  {
   "cell_type": "code",
   "execution_count": 38,
   "metadata": {},
   "outputs": [
    {
     "data": {
      "image/png": "[encoded data removed]",
      "text/plain": [
       "<Figure size 1440x720 with 2 Axes>"
      ]
     },
     "metadata": {
      "needs_background": "light"
     },
     "output_type": "display_data"
    }
   ],
   "source": [
    "run_names = list(map(lambda c: c.name, Run_types))\n",
    "\n",
    "df_tf = pd.DataFrame.from_records(\n",
    "    data=np.transpose(np.array(total_fail_metric_list_list)), \n",
    "    columns=run_names\n",
    ")\n",
    "\n",
    "df_tf_means = pd.DataFrame({\n",
    "    \"run_names\": run_names, \n",
    "    \"total_failure_metric_avg\": df_tf.mean()\n",
    "    })\n",
    "fig, (ax1, ax2)  = plt.subplots(nrows=1, ncols=2, figsize=(20, 10))\n",
    "\n",
    "ax1 = sns.boxplot(data=df_tf, orient=\"v\", ax=ax1)\n",
    "ax1.set(title = 'Total Error distriubtion')\n",
    "\n",
    "ax2.grid(True)\n",
    "sns.barplot(x='run_names',  y='total_failure_metric_avg', data=df_tf_means, orient = 'v', ax=ax2)\n",
    "\n",
    "ax2.set(title = 'Total failure metric average')\n",
    "ax2.set_ylim(0, 1)\n",
    "fig.savefig(\"../results/pytorch3d/total_metric.png\")"
   ]
  },
  {
   "cell_type": "code",
   "execution_count": 39,
   "metadata": {},
   "outputs": [
    {
     "data": {
      "image/png": "[encoded data removed]",
      "text/plain": [
       "<Figure size 1440x720 with 2 Axes>"
      ]
     },
     "metadata": {
      "needs_background": "light"
     },
     "output_type": "display_data"
    }
   ],
   "source": [
    "df_dm = pd.DataFrame.from_records(\n",
    "    data=np.transpose(np.array(distance_metric_list_list)), \n",
    "    columns=run_names\n",
    ")\n",
    "\n",
    "df_dm_means = pd.DataFrame({\n",
    "    \"run_names\": run_names, \n",
    "    \"distance_metric_avg\": df_dm.mean()\n",
    "    })\n",
    "fig, (ax1, ax2)  = plt.subplots(nrows=1, ncols=2, figsize=(20, 10))\n",
    "\n",
    "ax1 = sns.boxplot(data=df_dm, orient=\"v\", ax=ax1)\n",
    "ax1.set(title = 'Distane Error distriubtion')\n",
    "\n",
    "ax2.grid(True)\n",
    "sns.barplot(x='run_names',  y='distance_metric_avg', data=df_dm_means, orient = 'v', ax=ax2)\n",
    "\n",
    "ax2.set(title = 'Distance failure metric average')\n",
    "ax2.set_ylim(0, 1)\n",
    "fig.savefig(\"../results/pytorch3d/distance_metric.png\")"
   ]
  },
  {
   "cell_type": "code",
   "execution_count": null,
   "metadata": {},
   "outputs": [],
   "source": []
  }
 ],
 "metadata": {
  "kernelspec": {
   "display_name": "Python 3.7",
   "language": "python",
   "name": "python3"
  },
  "language_info": {
   "codemirror_mode": {
    "name": "ipython",
    "version": 3
   },
   "file_extension": ".py",
   "mimetype": "text/x-python",
   "name": "python",
   "nbconvert_exporter": "python",
   "pygments_lexer": "ipython3",
   "version": "3.7.6"
  }
 },
 "nbformat": 4,
 "nbformat_minor": 4
}
