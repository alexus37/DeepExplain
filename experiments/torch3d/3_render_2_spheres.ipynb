{
 "cells": [
  {
   "cell_type": "code",
   "execution_count": 14,
   "metadata": {},
   "outputs": [],
   "source": [
    "from pytorch3d.utils import ico_sphere\n",
    "from pytorch3d.structures import Meshes, Textures\n",
    "from pytorch3d.renderer import (\n",
    "    look_at_view_transform, \n",
    "    OpenGLPerspectiveCameras, \n",
    "    PointLights, \n",
    "    DirectionalLights, \n",
    "    Materials, \n",
    "    RasterizationSettings, \n",
    "    MeshRenderer, \n",
    "    MeshRasterizer, \n",
    "    TexturedSoftPhongShader,\n",
    "    HardPhongShader\n",
    ")\n",
    "import torch\n",
    "from matplotlib import pyplot as plt\n",
    "\n"
   ]
  },
  {
   "cell_type": "code",
   "execution_count": 20,
   "metadata": {},
   "outputs": [
    {
     "name": "stdout",
     "output_type": "stream",
     "text": [
      "tensor([[-0.5257,  0.8507,  0.0000],\n",
      "        [ 0.5257,  0.8507,  0.0000],\n",
      "        [-0.5257, -0.8507,  0.0000],\n",
      "        ...,\n",
      "        [-0.3996, -0.0823, -0.9130],\n",
      "        [ 0.3996,  0.0823, -0.9130],\n",
      "        [-0.3996,  0.0823, -0.9130]])\n",
      "tensor([[  0, 166, 163],\n",
      "        [  0, 163, 162],\n",
      "        [  0, 162, 164],\n",
      "        ...,\n",
      "        [616, 617, 615],\n",
      "        [636, 640, 637],\n",
      "        [603, 604, 605]])\n"
     ]
    },
    {
     "data": {
      "image/png": "[encoded data removed]",
      "text/plain": [
       "<Figure size 504x504 with 1 Axes>"
      ]
     },
     "metadata": {
      "needs_background": "light"
     },
     "output_type": "display_data"
    }
   ],
   "source": [
    "device = torch.device(\"cuda:0\")\n",
    "# Initialize two ico spheres of different sizes\n",
    "mesh1 = ico_sphere(3)  # (42 verts, 80 faces)\n",
    "mesh2 = ico_sphere(4)  # (162 verts, 320 faces)\n",
    "verts1, faces1 = mesh1.get_mesh_verts_faces(0)\n",
    "verts2, faces2 = mesh2.get_mesh_verts_faces(0)\n",
    "print(verts1)\n",
    "print(faces1)\n",
    "\n",
    "# Initalize the textures as an RGB color per vertex\n",
    "tex1 = torch.ones_like(verts1).cuda()\n",
    "tex2 = torch.ones_like(verts2).cuda()\n",
    "tex1[:, 1:] *= 0.0  # red\n",
    "tex2[:, :2] *= 0.0  # blue\n",
    "\n",
    "# Create one mesh which contains two spheres of different sizes.\n",
    "# To do this we can concatenate verts1 and verts2\n",
    "# but we need to offset the face indices of faces2 so they index\n",
    "# into the correct positions in the combined verts tensor. \n",
    "\n",
    "# Make the red sphere smaller and offset both spheres so they are not overlapping\n",
    "verts1 *= 0.25  \n",
    "verts1[:, 0] += 0.7\n",
    "verts2[:, 0] -= 0.5\n",
    "verts = torch.cat([verts1, verts2]).cuda()  #(204, 3)\n",
    "\n",
    "#  Offset by the number of vertices in mesh1\n",
    "faces2 = faces2 + verts1.shape[0]  \n",
    "faces = torch.cat([faces1, faces2]).cuda()  # (400, 3)\n",
    "\n",
    "tex = torch.cat([tex1, tex2])[None]  # (1, 204, 3)\n",
    "textures = Textures(verts_rgb=tex.cuda())\n",
    "\n",
    "mesh = Meshes(verts=[verts], faces=[faces], textures=textures)\n",
    "\n",
    "# Create a renderer\n",
    "batch_size = 1\n",
    "R, T = look_at_view_transform(dist=2.7, elev=0, azim=0)\n",
    "R = R.repeat(batch_size, 1, 1)\n",
    "T = T.repeat(batch_size, 1)\n",
    "cameras = OpenGLPerspectiveCameras(device=device, R=R, T=T)\n",
    "\n",
    "raster_settings = RasterizationSettings(image_size=224, blur_radius=0.0, faces_per_pixel=1)\n",
    "lights = PointLights(device=device, location=[[0.0, 0.0, -3.0]])\n",
    "\n",
    "renderer = MeshRenderer(\n",
    "    rasterizer=MeshRasterizer(cameras=cameras, raster_settings=raster_settings), shader=HardPhongShader(device=device, cameras=cameras, lights=lights))\n",
    "\n",
    "# Render the mesh\n",
    "image = renderer(mesh)   # (1, H, W, 4)\n",
    "plt.figure(figsize=(7,7))\n",
    "plt.imshow(image.squeeze().cpu().numpy())\n",
    "plt.grid(\"off\");\n",
    "plt.axis('off');"
   ]
  },
  {
   "cell_type": "code",
   "execution_count": null,
   "metadata": {},
   "outputs": [],
   "source": []
  }
 ],
 "metadata": {
  "kernelspec": {
   "display_name": "Python 3.7",
   "language": "python",
   "name": "python3"
  },
  "language_info": {
   "codemirror_mode": {
    "name": "ipython",
    "version": 3
   },
   "file_extension": ".py",
   "mimetype": "text/x-python",
   "name": "python",
   "nbconvert_exporter": "python",
   "pygments_lexer": "ipython3",
   "version": "3.7.6"
  }
 },
 "nbformat": 4,
 "nbformat_minor": 4
}
