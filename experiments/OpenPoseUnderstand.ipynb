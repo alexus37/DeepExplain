{
 "cells": [
  {
   "cell_type": "code",
   "execution_count": 1,
   "metadata": {},
   "outputs": [],
   "source": [
    "%load_ext autoreload\n",
    "%autoreload 2\n",
    "# imports\n",
    "import logging\n",
    "import sys, os\n",
    "import time\n",
    "from tf_pose import common\n",
    "import cv2\n",
    "import numpy as np\n",
    "from tf_pose.estimator import TfPoseEstimator, PoseEstimator\n",
    "from tf_pose.networks import get_graph_path, model_wh\n",
    "from tf_pose.common import CocoPart\n",
    "import matplotlib.pyplot as plt\n",
    "import asyncio\n",
    "import datetime\n",
    "import random\n",
    "import websockets\n",
    "import nest_asyncio\n",
    "import http.server\n",
    "import socketserver\n",
    "import threading\n",
    "from IPython.display import IFrame\n",
    "import base64\n",
    "from PIL import Image\n",
    "from io import BytesIO\n",
    "import re\n",
    "from utils import run_websocket_server, run_http_server\n",
    "import tensorflow as tf\n",
    "sys.path.insert(0, os.path.abspath('..'))\n",
    "# Import DeepExplain\n",
    "from deepexplain.tf.v1_x import DeepExplain\n",
    "\n",
    "nest_asyncio.apply()\n",
    "\n",
    "os.environ[\"TF_CPP_MIN_LOG_LEVEL\"] = \"3\"\n",
    "logging.getLogger(\"tensorflow\").setLevel(logging.CRITICAL)\n",
    "logging.getLogger('TfPoseEstimatorRun').setLevel(logging.ERROR)\n",
    "logging.getLogger('DeepExplain').setLevel(logging.ERROR)\n",
    "logging.getLogger('TfPoseEstimator').setLevel(logging.ERROR)\n"
   ]
  },
  {
   "cell_type": "code",
   "execution_count": 2,
   "metadata": {},
   "outputs": [],
   "source": [
    "# params 432, 368\n",
    "w, h = 432, 368\n",
    "image_path = './data/images/muscle.jpg'\n",
    "image_path_black = './data/images/muscle_black1.jpg'\n",
    "model = 'cmu'\n",
    "resize_out_ratio = 1.0\n",
    "image = common.read_imgfile(image_path, w, h)\n",
    "image_black = common.read_imgfile(image_path_black, w, h)"
   ]
  },
  {
   "cell_type": "code",
   "execution_count": 3,
   "metadata": {},
   "outputs": [],
   "source": [
    "e = TfPoseEstimator(get_graph_path(model), target_size=(w, h), trt_bool=False)\n",
    "#e_black = TfPoseEstimator(get_graph_path(model), target_size=(w, h), trt_bool=False)"
   ]
  },
  {
   "cell_type": "code",
   "execution_count": 4,
   "metadata": {},
   "outputs": [],
   "source": [
    "# compute with and without \n",
    "humans = e.inference(image, resize_to_default=(w > 0 and h > 0), upsample_size=resize_out_ratio)\n",
    "#humans_black = e_black.inference(image_black, resize_to_default=(w > 0 and h > 0), upsample_size=resize_out_ratio)"
   ]
  },
  {
   "cell_type": "code",
   "execution_count": null,
   "metadata": {},
   "outputs": [],
   "source": [
    "part = humans[0].body_parts[CocoPart.RShoulder.value]\n",
    "print(f'ORIG: score: {part.score} x: {part.x} y: {part.y} ')\n",
    "part = humans_black[0].body_parts[CocoPart.RShoulder.value]\n",
    "print(f'OCCULED: score: {part.score} x: {part.x} y: {part.y} ')"
   ]
  },
  {
   "cell_type": "code",
   "execution_count": null,
   "metadata": {},
   "outputs": [],
   "source": [
    "# estimate human poses from a single image !\n",
    "humans_orig = e.inference(image, resize_to_default=(w > 0 and h > 0), upsample_size=resize_out_ratio)\n",
    "# run again with parameters passed\n",
    "humans = PoseEstimator.estimate_paf(e.peaks, e.heatMat, e.pafMat)\n",
    "image_result = TfPoseEstimator.draw_humans(image, humans, imgcopy=True)\n",
    "\n",
    "fig = plt.figure(figsize=(50, 25))\n",
    "a = fig.add_subplot(2, 1, 1)\n",
    "a.set_title('Result')\n",
    "plt.imshow(cv2.cvtColor(image_result, cv2.COLOR_BGR2RGB))\n",
    "\n",
    "bgimg = cv2.cvtColor(image_result.astype(np.uint8), cv2.COLOR_BGR2RGB)\n",
    "bgimg = cv2.resize(bgimg, (e.heatMat.shape[1], e.heatMat.shape[0]), interpolation=cv2.INTER_AREA)\n",
    "\n",
    "# show network output\n",
    "a = fig.add_subplot(2, 2, 2)\n",
    "plt.imshow(bgimg, alpha=0.5)\n",
    "tmp = np.amax(e.heatMat[:, :, :-1], axis=2)\n",
    "plt.imshow(tmp, cmap=plt.cm.gray, alpha=0.5)\n",
    "_ = plt.colorbar()"
   ]
  },
  {
   "cell_type": "code",
   "execution_count": null,
   "metadata": {},
   "outputs": [],
   "source": [
    "# find part with smallest score\n",
    "cur_min = 1.0\n",
    "part = None\n",
    "for body_part in humans[0].body_parts.keys():\n",
    "    if humans[0].body_parts[body_part].score < cur_min:\n",
    "        part = humans[0].body_parts[body_part]\n",
    "        cur_min =  humans[0].body_parts[body_part].score\n",
    "\n",
    "print(part.get_part_name())"
   ]
  },
  {
   "cell_type": "code",
   "execution_count": null,
   "metadata": {},
   "outputs": [],
   "source": [
    "# REBUILD PEAKS\n",
    "from tf_pose.tensblur.smoother import Smoother\n",
    "\n",
    "tensor_heatMat_up = tf.placeholder(dtype=tf.float32, shape=[None, 92, 108, 19], name='alex_test')\n",
    "\n",
    "smoother = Smoother({'data': tensor_heatMat_up}, 25, 3.0)\n",
    "gaussian_heatMat = smoother.get_output()\n",
    "\n",
    "max_pooled_in_tensor = tf.nn.pool(gaussian_heatMat, window_shape=(3, 3), pooling_type='MAX', padding='SAME')\n",
    "tensor_mask = tf.equal(gaussian_heatMat, max_pooled_in_tensor)\n",
    "tensor_peaks = tf.where(tensor_mask, gaussian_heatMat, tf.zeros_like(gaussian_heatMat))\n",
    "e.persistent_sess.run(tf.variables_initializer(\n",
    "            [v for v in tf.global_variables() if\n",
    "             v.name.split(':')[0] in [x.decode('utf-8') for x in\n",
    "                                      e.persistent_sess.run(tf.report_uninitialized_variables())]\n",
    "             ])\n",
    "        )\n",
    "\n",
    "[tf_peaks] = e.persistent_sess.run(\n",
    "    [tensor_peaks],\n",
    "            feed_dict={\n",
    "                tensor_heatMat_up: np.expand_dims(e.heatMat, axis=0)\n",
    "            }\n",
    "        )\n",
    "[tf_gaussian_heatMat]= e.persistent_sess.run(\n",
    "    [gaussian_heatMat],\n",
    "            feed_dict={\n",
    "                tensor_heatMat_up: np.expand_dims(e.heatMat, axis=0)\n",
    "            }\n",
    "        )\n",
    "print(e.tensor_heatMat_up.shape)\n",
    "print(tf_peaks.shape)\n",
    "print(tensor_mask.shape)\n",
    "fig = plt.figure(figsize=(60, 30))\n",
    "ax = fig.add_subplot(2, 1, 1)\n",
    "\n",
    "#heat_image = ax.imshow(tf_peaks[0,:,:,CocoPart.RShoulder.value], cmap=plt.cm.hot)\n",
    "heat_image = ax.imshow(tf_gaussian_heatMat[0,:,:,CocoPart.RShoulder.value], cmap=plt.cm.hot)\n",
    "ax.set_title('Peaks')\n",
    "\n",
    "x_ticks = np.arange(0.5, e.peaks.shape[0], 1)\n",
    "y_ticks = np.arange(0.5, e.peaks.shape[1], 1)\n",
    "\n",
    "ax.set_xticks(y_ticks)\n",
    "ax.set_yticks(x_ticks)\n",
    "\n",
    "ax.grid()\n",
    "fig.colorbar(heat_image, ax=ax, shrink=1.0)"
   ]
  },
  {
   "cell_type": "code",
   "execution_count": null,
   "metadata": {},
   "outputs": [],
   "source": [
    "print(e.peaks.shape)\n",
    "# show network output\n",
    "peaks = np.amax(e.peaks[:, :, :-1], axis=2)\n",
    "fig = plt.figure(figsize=(60, 30))\n",
    "ax = fig.add_subplot(2, 1, 1)\n",
    "\n",
    "heat_image = ax.imshow(peaks, cmap=plt.cm.hot)\n",
    "ax.set_title('Peaks')\n",
    "\n",
    "x_ticks = np.arange(0.5, e.peaks.shape[0], 1)\n",
    "y_ticks = np.arange(0.5, e.peaks.shape[1], 1)\n",
    "\n",
    "ax.set_xticks(y_ticks)\n",
    "ax.set_yticks(x_ticks)\n",
    "\n",
    "ax.grid()\n",
    "fig.colorbar(heat_image, ax=ax, shrink=1.0)\n"
   ]
  },
  {
   "cell_type": "code",
   "execution_count": null,
   "metadata": {},
   "outputs": [],
   "source": [
    "import cv2\n",
    "tmp= peaks > 0.05\n",
    "cv2.imwrite(\"results/plots/muscel_peaks.png\", tmp * 255 )"
   ]
  },
  {
   "cell_type": "code",
   "execution_count": 5,
   "metadata": {},
   "outputs": [
    {
     "data": {
      "text/plain": [
       "<matplotlib.image.AxesImage at 0x7fc835fae630>"
      ]
     },
     "execution_count": 5,
     "metadata": {},
     "output_type": "execute_result"
    },
    {
     "data": {
      "image/png": "[encoded data removed]",
      "text/plain": [
       "<Figure size 2160x1080 with 3 Axes>"
      ]
     },
     "metadata": {
      "needs_background": "light"
     },
     "output_type": "display_data"
    }
   ],
   "source": [
    "heatmap = e.heatMat[:, :, CocoPart.RShoulder.value]\n",
    "quantile = 0.99\n",
    "quant = np.quantile(heatmap, quantile)\n",
    "mask = heatmap > quant\n",
    "\n",
    "# show network output\n",
    "fig = plt.figure(figsize=(30, 15))\n",
    "ax = fig.add_subplot(2, 1, 1)\n",
    "\n",
    "heat_image = ax.imshow(heatmap, cmap=plt.cm.hot)\n",
    "ax.set_title('Heatmap of Right Shoulder')\n",
    "fig.colorbar(heat_image, ax=ax, shrink=1.0)\n",
    "\n",
    "ax = fig.add_subplot(2, 2, 1)\n",
    "ax.set_title(f'Mask with quantile = {quantile}')\n",
    "ax.imshow(mask, cmap=plt.cm.hot)"
   ]
  },
  {
   "cell_type": "code",
   "execution_count": 7,
   "metadata": {},
   "outputs": [
    {
     "name": "stdout",
     "output_type": "stream",
     "text": [
      "Max value 0.6426067352294922 at (12, 21)\n",
      "5.2387857\n",
      "(46, 54, 19) <class 'numpy.ndarray'>\n",
      "(46, 54, 38) <class 'numpy.ndarray'>\n",
      "(?, ?, ?, 57) <class 'tensorflow.python.framework.ops.Tensor'>\n",
      "(?, ?, ?, 3) <class 'tensorflow.python.framework.ops.Tensor'>\n",
      "(46, 54)\n"
     ]
    }
   ],
   "source": [
    "x, y = np.unravel_index(heatmap.argmax(), heatmap.shape)\n",
    "print(f'Max value {heatmap[x, y]} at ({x}, {y})')\n",
    "print(np.sum(heatmap))\n",
    "print(e.heatMat.shape, str(type(e.heatMat)))\n",
    "print(e.pafMat.shape, str(type(e.pafMat)))\n",
    "\n",
    "print(e.tensor_output.shape, str(type(e.tensor_output)))\n",
    "print(e.tensor_image.shape, str(type(e.tensor_image)))\n",
    "print(mask.shape)"
   ]
  },
  {
   "cell_type": "code",
   "execution_count": 8,
   "metadata": {},
   "outputs": [
    {
     "name": "stderr",
     "output_type": "stream",
     "text": [
      "/home/ax/master/2019_02/masterThesis/DeepExplain/deepexplain/tf/v1_x/main.py:94: UserWarning: DeepExplain detected you are trying to use an attribution method that requires gradient override but the original gradient was used instead. You might have forgot to (re)create your graph within the DeepExlain context. Results are not reliable!\n",
      "  warnings.warn('DeepExplain detected you are trying to use an attribution method that requires '\n"
     ]
    }
   ],
   "source": [
    "# get the current session\n",
    "sess = e.persistent_sess\n",
    "#tf.reset_default_graph()\n",
    "#sess = tf.Session()\n",
    "LOGDIR = './logs/openPose'\n",
    "\n",
    "# Since we will explain it, the model has to be wrapped in a DeepExplain context\n",
    "with DeepExplain(session=sess, graph=e.graph) as de:\n",
    "    train_writer = tf.summary.FileWriter(LOGDIR)\n",
    "    train_writer.add_graph(e.graph)\n",
    "    \n",
    "    input_tensor = e.tensor_image\n",
    "    #output_tensor = e.tensor_heatMat[:, x, y, CocoPart.RShoulder.value] # DOES NOT WORK\n",
    "    output_tensor = e.tensor_heatMat[:, :, :, CocoPart.RShoulder.value]\n",
    "    xs = tf.expand_dims(image, 0).eval(session=sess)\n",
    "    xs = xs.astype('float64')\n",
    "    # print(output_tensor.shape, str(type(output_tensor)))\n",
    "    # print(input_tensor.shape, str(type(input_tensor)))\n",
    "    # print(xs.shape, str(type(xs)))\n",
    "    # Y_shape=[None] + list(xs.shape[1:])\n",
    "    Y_shape=[None] + [1, 46, 54] # size of heatmaps with resize\n",
    "    # ys = np.ones([1,] + Y_shape[1:])\n",
    "    ys = np.expand_dims(np.expand_dims(mask, axis=0), axis=0)\n",
    "    # print(Y_shape)\n",
    "    baseline = np.zeros(list(xs.shape)[1:]) # baseline to compare against\n",
    "\n",
    "    attributions = {\n",
    "        # Gradient-based\n",
    "        # NOTE: reduce_max is used to select the output unit for the class predicted by the classifier\n",
    "        # For an example of how to use the ground-truth labels instead, see mnist_cnn_keras notebook\n",
    "        #'Integrated Gradients': de.explain('intgrad',  T=output_tensor, X=input_tensor, xs=xs, Y_shape=Y_shape, baseline=baseline),\n",
    "        #'Epsilon-LRP':          de.explain('elrp', T=output_tensor, X=input_tensor, xs=xs, Y_shape=Y_shape),\n",
    "        #'DeepLIFT (Rescale)':   de.explain('deeplift', T=output_tensor, X=input_tensor, xs=xs, Y_shape=Y_shape, baseline=baseline),\n",
    "        # takes 4 hours and does not really work \n",
    "        #'Occlusion [15x15]':    de.explain('occlusion', T=output_tensor, X=input_tensor, xs=xs, Y_shape=Y_shape, window_shape=(15,15,3), step=4),\n",
    "        # not feasable for that size of input\n",
    "        #'Shapley Sampling':     de.explain('shapley_sampling', T=output_tensor, X=input_tensor, xs=xs, Y_shape=Y_shape),\n",
    "        'Saliency maps':        de.explain('saliency', T=output_tensor, X=input_tensor, xs=xs, ys=ys, Y_shape=Y_shape),\n",
    "        'Gradient * Input':     de.explain('grad*input', T=output_tensor, X=input_tensor, xs=xs, ys=ys, Y_shape=Y_shape),\n",
    "    }"
   ]
  },
  {
   "cell_type": "code",
   "execution_count": null,
   "metadata": {},
   "outputs": [],
   "source": [
    "# MANUALLY compute saliency map\n",
    "sess = e.persistent_sess\n",
    "\n",
    "with DeepExplain(session=sess, graph=e.graph) as de:\n",
    "    input_tensor = e.tensor_image\n",
    "    output_tensor = e.tensor_heatMat[:, :, :, CocoPart.RShoulder.value]\n",
    "    xs = tf.expand_dims(image, 0).eval(session=sess)\n",
    "    xs = xs.astype('float64')\n",
    "    attr_methode = [tf.abs(g) for g in tf.gradients(ys=output_tensor, xs=input_tensor)]\n",
    "    \n",
    "    saliency = e.persistent_sess.run(attr_methode, feed_dict = {input_tensor: xs})"
   ]
  },
  {
   "cell_type": "code",
   "execution_count": null,
   "metadata": {},
   "outputs": [],
   "source": [
    "img_index = 0\n",
    "print(f'shape = {saliency[0].shape}')\n",
    "#attribution = saliency[0][img_index] # \n",
    "attribution = attributions['Saliency maps'][0]\n",
    "\n",
    "\n",
    "SCALE = 10000\n",
    "fig = plt.figure(figsize=(25, 15))\n",
    "_ = plt.imshow(attribution * SCALE, cmap=plt.cm.hot)\n",
    "print(f'min = {np.min(attribution)}')\n",
    "print(f'max = {np.max(attribution)}')\n",
    "print(f'mean = {np.mean(attribution)}')\n",
    "print(np.allclose(saliency[0][img_index], attributions['Saliency maps'][0]))"
   ]
  },
  {
   "cell_type": "code",
   "execution_count": null,
   "metadata": {},
   "outputs": [],
   "source": [
    "# Plot attributions\n",
    "from utils import plot, plt\n",
    "%matplotlib inline\n",
    "\n",
    "n_cols = int(len(attributions)) + 1\n",
    "n_rows = len(xs) \n",
    "fig_scale = 3\n",
    "fig, axes = plt.subplots(nrows=n_rows, ncols=n_cols, figsize=(3*n_cols*fig_scale, 3*n_rows*fig_scale))\n",
    "\n",
    "for i, xi in enumerate(xs):\n",
    "    xi = (xi - np.min(xi))\n",
    "    xi /= np.max(xi)\n",
    "    ax = axes.flatten()[i*n_cols]\n",
    "    ax.imshow(xi)\n",
    "    ax.set_title('Original')\n",
    "    ax.axis('off')\n",
    "    for j, a in enumerate(attributions):\n",
    "        axj = axes.flatten()[i*n_cols + j + 1]\n",
    "        plot(attributions[a][i], xi = xi, axis=axj, dilation=.5, percentile=99, alpha=.2).set_title(a)"
   ]
  },
  {
   "cell_type": "code",
   "execution_count": null,
   "metadata": {},
   "outputs": [],
   "source": []
  }
 ],
 "metadata": {
  "kernelspec": {
   "display_name": "Python [conda env:masterThesis] *",
   "language": "python",
   "name": "conda-env-masterThesis-py"
  },
  "language_info": {
   "codemirror_mode": {
    "name": "ipython",
    "version": 3
   },
   "file_extension": ".py",
   "mimetype": "text/x-python",
   "name": "python",
   "nbconvert_exporter": "python",
   "pygments_lexer": "ipython3",
   "version": "3.6.9"
  }
 },
 "nbformat": 4,
 "nbformat_minor": 4
}
