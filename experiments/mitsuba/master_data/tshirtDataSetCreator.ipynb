{
 "cells": [
  {
   "cell_type": "code",
   "execution_count": 33,
   "metadata": {},
   "outputs": [
    {
     "name": "stdout",
     "output_type": "stream",
     "text": [
      "The autoreload extension is already loaded. To reload it, use:\n",
      "  %reload_ext autoreload\n"
     ]
    }
   ],
   "source": [
    "%load_ext autoreload\n",
    "%autoreload 2\n",
    "import xml.dom.minidom\n",
    "import os\n",
    "from tqdm import tqdm\n",
    "import glob\n",
    "import random\n",
    "import shutil \n",
    "\n",
    "import enoki as ek\n",
    "import mitsuba\n",
    "mitsuba.set_variant('gpu_autodiff_rgb')\n",
    "from mitsuba.python.autodiff import render, render_torch, write_bitmap\n",
    "from mitsuba.python.util import traverse\n",
    "from mitsuba.core.xml import load_file\n",
    "from mitsuba.core import Thread, Vector3f, LogLevel\n",
    "\n"
   ]
  },
  {
   "cell_type": "code",
   "execution_count": 36,
   "metadata": {},
   "outputs": [],
   "source": [
    "# consts\n",
    "DATASET_FILE_ROOT = '/home/ax/data/radekDataset'\n",
    "SCENE_FILE_ROOT = f'{DATASET_FILE_ROOT}/scenes'\n",
    "\n",
    "FRONT_DIR = 'frontalViewRandomColor'\n",
    "BACK_DIR = 'backViewRandomColor'\n",
    "TRAIN_SAMPLES = 1800\n",
    "TEST_SAMPLES = 200\n",
    "DATA_SET_ROOT = '/home/ax/data/DeepExplain/experiments/data/tshirt'\n",
    "\n",
    "master_requirements_meshes = ['ground.obj']\n",
    "master_requirements_texture = ['UV.jpg']\n",
    "\n",
    "\n",
    "os.makedirs(f'{DATA_SET_ROOT}/train/meshes', exist_ok=True)\n",
    "os.makedirs(f'{DATA_SET_ROOT}/test/meshes', exist_ok=True)\n",
    "os.makedirs(f'{DATA_SET_ROOT}/train/texture', exist_ok=True)\n",
    "os.makedirs(f'{DATA_SET_ROOT}/test/texture', exist_ok=True)\n",
    "for file in master_requirements_meshes:\n",
    "    shutil.copy(file, f'{DATA_SET_ROOT}/train/meshes/{file}')\n",
    "    shutil.copy(file, f'{DATA_SET_ROOT}/test/meshes/{file}')\n",
    "\n",
    "for file in master_requirements_texture:\n",
    "    shutil.copy(file, f'{DATA_SET_ROOT}/train/texture/{file}')\n",
    "    shutil.copy(file, f'{DATA_SET_ROOT}/test/texture/{file}')\n",
    "    \n",
    "MASTER_TEMPLATE = 'master_RD.xml'\n",
    "\n",
    "MASTER_TSHIRT = 'master_tshirt_new_uv.obj'\n",
    "FACE_AND_UV_COORDS = []\n",
    "\n",
    "master_file = open(MASTER_TSHIRT, 'r') \n",
    "lines = master_file.readlines() \n",
    "for line in lines:\n",
    "    if line.startswith('v '):\n",
    "        continue\n",
    "    FACE_AND_UV_COORDS.append(line)\n",
    "\n",
    "# scale should be min -7 \n",
    "Z_MIN = 7\n",
    "Z_MAX = 7"
   ]
  },
  {
   "cell_type": "code",
   "execution_count": 35,
   "metadata": {},
   "outputs": [],
   "source": [
    "def get_scenes_filenames(directory):\n",
    "    scenes = []\n",
    "    for file in tqdm(glob.glob(f\"{directory}/*.xml\")):\n",
    "        scenes.append(file)\n",
    "    # shuffel scenes due to naming \n",
    "    random.seed(42)\n",
    "    random.shuffle(scenes)\n",
    "    \n",
    "    return scenes\n",
    "\n",
    "def copy_character_mesh(file_name, train_flag):\n",
    "    t_dir = 'train' if train_flag else 'test'\n",
    "    # /cluster/scratch/rdanecek/arcsim/SPRING_MALE_RESAMPLED/mesh50_animated/127/127_10/frame_00144.obj\n",
    "    local_path = file_name.replace('/cluster/scratch/rdanecek/arcsim/', '')\n",
    "    src_path = f'{DATASET_FILE_ROOT}/{local_path}'\n",
    "    \n",
    "    new_path = f'meshes/{local_path}'\n",
    "    trg_path = f'{DATA_SET_ROOT}/{t_dir}/{new_path}'\n",
    "    \n",
    "    # create all dirs \n",
    "    os.makedirs(os.path.dirname(trg_path), exist_ok=True)\n",
    "    if not os.path.isfile(src_path):\n",
    "        print(f'file: {src_path} does not exist.')\n",
    "        return\n",
    "    shutil.copy(src_path, trg_path)\n",
    "    \n",
    "    return new_path\n",
    "\n",
    "def update_thsirt_uv_map(file_name):\n",
    "    tshirt_file = open(file_name, 'r') \n",
    "    lines = tshirt_file.readlines()\n",
    "    tshirt_file.close() \n",
    "    \n",
    "    vertex_positions = []\n",
    "    \n",
    "    for line in lines:\n",
    "        if line.startswith('v '):\n",
    "            vertex_positions.append(line)\n",
    "    \n",
    "    content = vertex_positions + FACE_AND_UV_COORDS\n",
    "    \n",
    "    tshirt_file = open(file_name, 'w') \n",
    "    tshirt_file.writelines(content) \n",
    "    tshirt_file.close() \n",
    "    \n",
    "    \n",
    "    \n",
    "def copy_tshirt_mesh(file_name, train_flag):\n",
    "    t_dir = 'train' if train_flag else 'test'\n",
    "    \n",
    "    local_path = file_name.replace('/cluster/scratch/rdanecek/arcsim/', '')\n",
    "    src_path = f'{DATASET_FILE_ROOT}/{local_path}'\n",
    "    \n",
    "    new_path = f'meshes/{local_path}'\n",
    "    trg_path = f'{DATA_SET_ROOT}/{t_dir}/{new_path}'\n",
    "    \n",
    "    # create all dirs \n",
    "    os.makedirs(os.path.dirname(trg_path), exist_ok=True)\n",
    "    if not os.path.isfile(src_path):\n",
    "        print(f'file: {src_path} does not exist.')\n",
    "        return\n",
    "    \n",
    "    shutil.copy(src_path, trg_path)\n",
    "    \n",
    "    update_thsirt_uv_map(trg_path)\n",
    "    \n",
    "    return new_path\n",
    "\n",
    "def get_scene_info(scene_file_name, front_flag, train_flag):\n",
    "    scene_doc = xml.dom.minidom.parse(scene_file_name)\n",
    "    master_doc = xml.dom.minidom.parse(MASTER_TEMPLATE)\n",
    "    \n",
    "    # get the camera node\n",
    "    src_camera = scene_doc.getElementsByTagName('sensor')\n",
    "    trg_camera = master_doc.getElementsByTagName('sensor')\n",
    "    if len(src_camera) != 1:\n",
    "        print('No sensor found')\n",
    "        return\n",
    "    src_camera_transform = src_camera[0].getElementsByTagName('transform')[0]\n",
    "    trg_camera_transform = trg_camera[0].getElementsByTagName('transform')[0]\n",
    "    \n",
    "    # move a bit more back\n",
    "    src_look_at = src_camera_transform.getElementsByTagName('lookat')[0]\n",
    "    origin =  src_look_at.getAttribute('origin').split(',')\n",
    "    origin = [float(i) for i in origin]\n",
    "    origin[2] += random.uniform(Z_MIN, Z_MAX) if front_flag else -1 * (random.uniform(Z_MIN, Z_MAX)) \n",
    "    origin = [str(i) for i in origin]\n",
    "    src_look_at.setAttribute('origin', ','.join(origin))\n",
    "    \n",
    "    trg_camera[0].replaceChild(src_camera_transform, trg_camera_transform)\n",
    "    \n",
    "    # get character transform\n",
    "    src_shapes = scene_doc.getElementsByTagName('shape')\n",
    "    trg_shapes = master_doc.getElementsByTagName('shape')\n",
    "    \n",
    "    src_character = None\n",
    "    trg_character = None\n",
    "    \n",
    "    src_tshirt = None\n",
    "    trg_tshirt = None\n",
    "    \n",
    "    for i in range(len(src_shapes)):\n",
    "        if src_shapes[i].getAttribute(\"id\") == 'character':\n",
    "            src_character = src_shapes[i]\n",
    "        if src_shapes[i].getAttribute(\"id\") == 'simulated':\n",
    "            src_tshirt = src_shapes[i]\n",
    "            \n",
    "    for i in range(len(trg_shapes)):\n",
    "        if trg_shapes[i].getAttribute(\"id\") == 'character':\n",
    "            trg_character = trg_shapes[i]\n",
    "        if trg_shapes[i].getAttribute(\"id\") == 'simulated':\n",
    "            trg_tshirt = trg_shapes[i]\n",
    "            \n",
    "    if src_character == None:\n",
    "        print('Character not in scene file')\n",
    "        return\n",
    "    \n",
    "    if src_tshirt == None:\n",
    "        print('Tshirt not in scene file')\n",
    "        return\n",
    "    \n",
    "    src_char_transform = src_character.getElementsByTagName('transform')[0]\n",
    "    trg_char_transform = trg_character.getElementsByTagName('transform')[0]\n",
    "    trg_character.replaceChild(src_char_transform, trg_char_transform)\n",
    "    \n",
    "    src_tshirt_transform = src_tshirt.getElementsByTagName('transform')[0]\n",
    "    trg_tshirt_transform = trg_tshirt.getElementsByTagName('transform')[0]\n",
    "    trg_tshirt.replaceChild(src_tshirt_transform, trg_tshirt_transform)\n",
    "    \n",
    "    # meshes\n",
    "    src_char_filename_node = src_character.getElementsByTagName('string')[0]\n",
    "    char_filename = src_char_filename_node.getAttribute('value')\n",
    "    \n",
    "    trg_char_filename_node = trg_character.getElementsByTagName('string')[0]\n",
    "    new_char_filename = copy_character_mesh(char_filename, train_flag)\n",
    "    trg_char_filename_node.setAttribute('value', new_char_filename)\n",
    "    \n",
    "    # Tshirt\n",
    "    src_tshirt_filename_node = src_tshirt.getElementsByTagName('string')[0]\n",
    "    tshirt_filename = src_tshirt_filename_node.getAttribute('value')\n",
    "    \n",
    "    trg_tshirt_filename_node = trg_tshirt.getElementsByTagName('string')[0]\n",
    "    new_tshirt_filename = copy_tshirt_mesh(tshirt_filename, train_flag)\n",
    "    trg_tshirt_filename_node.setAttribute('value', new_tshirt_filename)\n",
    "    \n",
    "    return master_doc.toxml()\n",
    "    \n",
    "    \n",
    "def save_scene(scene_str, i, path):\n",
    "    file_name = f'{path}/{i:05d}.xml'\n",
    "    with open(file_name, \"w\") as f:\n",
    "        f.write(scene_str)\n",
    "    return file_name\n",
    "\n",
    "def render_file(file_name):\n",
    "    thread = Thread.thread()\n",
    "    thread.file_resolver().append(os.path.dirname(file_name))\n",
    "    logger = thread.logger()\n",
    "    logger.set_log_level(LogLevel.Warn)\n",
    "\n",
    "    scene = load_file(file_name)\n",
    "    image_ref = render(scene, spp=32)\n",
    "    crop_size = scene.sensors()[0].film().crop_size()\n",
    "    out_file_name = file_name.replace('xml', 'png')\n",
    "    write_bitmap(out_file_name, image_ref, crop_size)\n",
    "        "
   ]
  },
  {
   "cell_type": "code",
   "execution_count": 37,
   "metadata": {},
   "outputs": [
    {
     "name": "stderr",
     "output_type": "stream",
     "text": [
      "100%|██████████| 100000/100000 [00:00<00:00, 4813845.98it/s]\n",
      "100%|██████████| 100000/100000 [00:00<00:00, 5077235.20it/s]\n"
     ]
    }
   ],
   "source": [
    "front_scenes = get_scenes_filenames(f'{SCENE_FILE_ROOT}/{FRONT_DIR}')\n",
    "back_scenes = get_scenes_filenames(f'{SCENE_FILE_ROOT}/{BACK_DIR}')"
   ]
  },
  {
   "cell_type": "code",
   "execution_count": 38,
   "metadata": {},
   "outputs": [
    {
     "name": "stderr",
     "output_type": "stream",
     "text": [
      "  0%|          | 0/1800 [00:00<?, ?it/s]"
     ]
    },
    {
     "name": "stdout",
     "output_type": "stream",
     "text": [
      "Generate training data\n"
     ]
    },
    {
     "name": "stderr",
     "output_type": "stream",
     "text": [
      "100%|██████████| 1800/1800 [08:56<00:00,  3.35it/s]\n"
     ]
    }
   ],
   "source": [
    "print('Generate training data')\n",
    "for i in tqdm(range(TRAIN_SAMPLES)):\n",
    "    scene_file_path = front_scenes.pop(0) if i % 2 == 0 else back_scenes.pop(0)\n",
    "    scene_str =  get_scene_info(scene_file_path, i % 2 == 0, True)\n",
    "    new_scene_file_path = save_scene(scene_str, i, f'{DATA_SET_ROOT}/train')\n",
    "    render_file(new_scene_file_path)\n",
    "    "
   ]
  },
  {
   "cell_type": "code",
   "execution_count": 39,
   "metadata": {},
   "outputs": [
    {
     "name": "stderr",
     "output_type": "stream",
     "text": [
      "  0%|          | 0/200 [00:00<?, ?it/s]"
     ]
    },
    {
     "name": "stdout",
     "output_type": "stream",
     "text": [
      "Generate test data\n"
     ]
    },
    {
     "name": "stderr",
     "output_type": "stream",
     "text": [
      "100%|██████████| 200/200 [01:24<00:00,  2.38it/s]\n"
     ]
    }
   ],
   "source": [
    "print('Generate test data')\n",
    "for i in tqdm(range(TEST_SAMPLES)):\n",
    "    scene_file_path = front_scenes.pop(0) if i % 2 == 0 else back_scenes.pop(0)\n",
    "    scene_str =  get_scene_info(scene_file_path, i % 2 == 0, False)\n",
    "    new_scene_file_path = save_scene(scene_str, i, f'{DATA_SET_ROOT}/test')\n",
    "    render_file(new_scene_file_path)"
   ]
  },
  {
   "cell_type": "code",
   "execution_count": null,
   "metadata": {},
   "outputs": [],
   "source": []
  }
 ],
 "metadata": {
  "kernelspec": {
   "display_name": "Python 3.7",
   "language": "python",
   "name": "python3"
  },
  "language_info": {
   "codemirror_mode": {
    "name": "ipython",
    "version": 3
   },
   "file_extension": ".py",
   "mimetype": "text/x-python",
   "name": "python",
   "nbconvert_exporter": "python",
   "pygments_lexer": "ipython3",
   "version": "3.7.6"
  }
 },
 "nbformat": 4,
 "nbformat_minor": 4
}
