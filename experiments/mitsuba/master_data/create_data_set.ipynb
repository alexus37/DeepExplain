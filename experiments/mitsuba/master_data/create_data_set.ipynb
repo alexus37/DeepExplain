{
 "cells": [
  {
   "cell_type": "code",
   "execution_count": 6,
   "metadata": {},
   "outputs": [],
   "source": [
    "import xml.dom.minidom\n",
    "import uuid\n",
    "import subprocess\n",
    "import os\n",
    "from tqdm import tqdm\n",
    "import random \n",
    "import shutil "
   ]
  },
  {
   "cell_type": "code",
   "execution_count": 20,
   "metadata": {},
   "outputs": [],
   "source": [
    "# consts\n",
    "WORKING_DIR = '/home/ax/data/DeepExplain'\n",
    "DATA_DIR = f'{WORKING_DIR}/experiments/mitsuba/master_data'\n",
    "SCENE_FILE_MASTER = f'{DATA_DIR}/master_mts.xml'\n",
    "\n",
    "DATA_SET_ROOT = f'{WORKING_DIR}/experiments/data/allTransforms'\n",
    "\n",
    "if not os.path.exists(DATA_SET_ROOT):\n",
    "    os.mkdir(DATA_SET_ROOT)\n",
    "    os.mkdir(f'{DATA_SET_ROOT}/train')\n",
    "    os.mkdir(f'{DATA_SET_ROOT}/test')\n",
    "    \n",
    "\n",
    "master_doc = xml.dom.minidom.parse(SCENE_FILE_MASTER)\n",
    "\n",
    "\n",
    "# number of samples\n",
    "TRAIN_SAMPLES = 1800\n",
    "TEST_SAMPLES = 200\n",
    "\n",
    "# left and right\n",
    "X_MIN = -100\n",
    "X_MAX = 100\n",
    "\n",
    "# depth\n",
    "Z_MIN = 0\n",
    "\n",
    "Z_MAX = -300\n",
    "\n",
    "# rotation\n",
    "ANGLE_MIN = -45\n",
    "ANGLE_MAX = 45\n",
    "\n",
    "\n",
    "POSE_ID_MIN = 1\n",
    "POSE_ID_MAX = 11\n",
    "\n",
    "master_requirements = [f'pose_0_{i}.serialized' for i in range(POSE_ID_MIN, POSE_ID_MAX)]\n",
    "master_requirements.append(f'MikeAlger_Texture.jpeg')\n",
    "master_requirements.append(f'rectangle.obj')\n",
    "master_requirements.append(f'noise_texture.jpg')\n",
    "\n",
    "for file in master_requirements:\n",
    "    shutil.copy(f'{DATA_DIR}/{file}', f'{DATA_SET_ROOT}/train/{file}')\n",
    "    shutil.copy(f'{DATA_DIR}/{file}', f'{DATA_SET_ROOT}/test/{file}')"
   ]
  },
  {
   "cell_type": "code",
   "execution_count": 21,
   "metadata": {},
   "outputs": [],
   "source": [
    "# compute a scene string\n",
    "def get_scene_xml_string(doc, x, z, angle, pose_id):\n",
    "    shape_node_human = doc.getElementsByTagName('shape')[0]\n",
    "    transform_node = shape_node_human.getElementsByTagName('transform')[0]\n",
    "    translation_node = transform_node.getElementsByTagName('translate')[0]\n",
    "    rotation_node = transform_node.getElementsByTagName('rotate')[0]\n",
    "    filename_node = shape_node_human.getElementsByTagName('string')[0]\n",
    "    \n",
    "    translation_node.setAttribute('z', str(z)) \n",
    "    translation_node.setAttribute('x', str(x))\n",
    "    rotation_node.setAttribute('angle', str(angle))\n",
    "    filename_node.setAttribute('value', f\"pose_0_{pose_id}.serialized\")\n",
    "    \n",
    "    shape_node_rect = doc.getElementsByTagName('shape')[1]\n",
    "    transform_node = shape_node_rect.getElementsByTagName('transform')[0]\n",
    "    translation_node = transform_node.getElementsByTagName('translate')[1]\n",
    "    rotation_node = transform_node.getElementsByTagName('rotate')[0]\n",
    "    \n",
    "    translation_node.setAttribute('z', str(z)) \n",
    "    translation_node.setAttribute('x', str(x))\n",
    "    rotation_node.setAttribute('angle', str(angle))\n",
    "    \n",
    "    return doc.toxml()\n",
    "\n",
    "# save the scene to file\n",
    "def save_scene(scene_str, pose_id, path=DATA_SET_ROOT):\n",
    "    file_name = f'{path}/a_{pose_id}_{uuid.uuid4()}.xml'\n",
    "    with open(file_name, \"w\") as f:\n",
    "        f.write(scene_str)\n",
    "    return file_name\n",
    "\n",
    "\n",
    "    \n",
    "def generate_sample(master_doc, x, z, angle, pose_id, base_dir):\n",
    "    # generate xml scene string\n",
    "    scene_str = get_scene_xml_string(master_doc, x, z, angle, pose_id)\n",
    "    # save scene as file\n",
    "    scene_file_name = save_scene(scene_str, pose_id, base_dir)"
   ]
  },
  {
   "cell_type": "code",
   "execution_count": 22,
   "metadata": {},
   "outputs": [
    {
     "name": "stderr",
     "output_type": "stream",
     "text": [
      " 21%|██▏       | 385/1800 [00:00<00:00, 3842.55it/s]"
     ]
    },
    {
     "name": "stdout",
     "output_type": "stream",
     "text": [
      "Generate training data\n"
     ]
    },
    {
     "name": "stderr",
     "output_type": "stream",
     "text": [
      "100%|██████████| 1800/1800 [00:00<00:00, 3746.01it/s]\n",
      "100%|██████████| 200/200 [00:00<00:00, 3851.24it/s]"
     ]
    },
    {
     "name": "stdout",
     "output_type": "stream",
     "text": [
      "Generate test data\n"
     ]
    },
    {
     "name": "stderr",
     "output_type": "stream",
     "text": [
      "\n"
     ]
    }
   ],
   "source": [
    "print('Generate training data')\n",
    "for i in tqdm(range(TRAIN_SAMPLES)):\n",
    "    x = random.uniform(X_MIN, X_MAX)\n",
    "    z = random.uniform(Z_MIN, Z_MAX)\n",
    "    angle = random.uniform(ANGLE_MIN, ANGLE_MAX)\n",
    "    pose_id = random.randint(POSE_ID_MIN, POSE_ID_MAX - 1)\n",
    "    \n",
    "    generate_sample(master_doc, x, z, angle, pose_id, f'{DATA_SET_ROOT}/train')\n",
    "    \n",
    "print('Generate test data')\n",
    "for i in tqdm(range(TEST_SAMPLES)):\n",
    "    x = random.uniform(X_MIN, X_MAX)\n",
    "    z = random.uniform(Z_MIN, Z_MAX)\n",
    "    angle = random.uniform(ANGLE_MIN, ANGLE_MAX)\n",
    "    pose_id = random.randint(POSE_ID_MIN, POSE_ID_MAX - 1)\n",
    "    \n",
    "    generate_sample(master_doc, x, z, angle, pose_id, f'{DATA_SET_ROOT}/test')"
   ]
  }
 ],
 "metadata": {
  "kernelspec": {
   "display_name": "Python 3.7",
   "language": "python",
   "name": "python3"
  },
  "language_info": {
   "codemirror_mode": {
    "name": "ipython",
    "version": 3
   },
   "file_extension": ".py",
   "mimetype": "text/x-python",
   "name": "python",
   "nbconvert_exporter": "python",
   "pygments_lexer": "ipython3",
   "version": "3.7.6"
  }
 },
 "nbformat": 4,
 "nbformat_minor": 4
}
