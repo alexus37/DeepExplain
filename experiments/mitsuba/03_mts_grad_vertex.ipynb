{
 "cells": [
  {
   "cell_type": "code",
   "execution_count": 1,
   "metadata": {},
   "outputs": [],
   "source": [
    "%load_ext autoreload\n",
    "%autoreload 2\n",
    "import enoki as ek\n",
    "import mitsuba\n",
    "mitsuba.set_variant('gpu_autodiff_rgb')\n",
    "\n",
    "import time\n",
    "import torch\n",
    "import cv2\n",
    "import copy\n",
    "from matplotlib import pyplot as plt\n",
    "import numpy as np\n",
    "\n",
    "from mitsuba.python.autodiff import render, render_torch, write_bitmap\n",
    "from mitsuba.python.util import traverse\n",
    "from mitsuba.core.xml import load_file\n",
    "from mitsuba.core import Thread, Vector3f\n",
    "\n",
    "\n",
    "from torch_openpose.body import Body\n",
    "from torch_openpose import util"
   ]
  },
  {
   "cell_type": "code",
   "execution_count": 2,
   "metadata": {},
   "outputs": [
    {
     "name": "stdout",
     "output_type": "stream",
     "text": [
      "cuda:0\n"
     ]
    },
    {
     "data": {
      "text/html": [
       "<span style=\"font-family: monospace; color: #000\">2020-03-31 14:42:06 INFO  main  [xml.cpp:1117] Loading XML file &quot;pose_scene/scene_no_texture.xml&quot; ..</span>"
      ]
     },
     "metadata": {},
     "output_type": "display_data"
    },
    {
     "data": {
      "text/html": [
       "<span style=\"font-family: monospace; color: #000\">2020-03-31 14:42:06 INFO  main  [xml.cpp:1118] Using variant &quot;gpu_autodiff_rgb&quot;</span>"
      ]
     },
     "metadata": {},
     "output_type": "display_data"
    },
    {
     "data": {
      "text/html": [
       "<span style=\"font-family: monospace; color: #000\">2020-03-31 14:42:06 INFO  main  [xml.cpp:348] &quot;pose_scene/scene_no_texture.xml&quot;: in-memory version upgrade (v0.6.0 -&gt; v2.0.0) ..</span>"
      ]
     },
     "metadata": {},
     "output_type": "display_data"
    },
    {
     "data": {
      "text/html": [
       "<span style=\"font-family: monospace; color: #000\">2020-03-31 14:42:06 INFO  main  [PluginManager] Loading plugin &quot;plugins/srgb.so&quot; ..</span>"
      ]
     },
     "metadata": {},
     "output_type": "display_data"
    },
    {
     "data": {
      "text/html": [
       "<span style=\"font-family: monospace; color: #000\">2020-03-31 14:42:06 INFO  main  [PluginManager] Loading plugin &quot;plugins/uniform.so&quot; ..</span>"
      ]
     },
     "metadata": {},
     "output_type": "display_data"
    },
    {
     "data": {
      "text/html": [
       "<span style=\"font-family: monospace; color: #000\">2020-03-31 14:42:06 INFO  main  [PluginManager] Loading plugin &quot;plugins/direct.so&quot; ..</span>"
      ]
     },
     "metadata": {},
     "output_type": "display_data"
    },
    {
     "data": {
      "text/html": [
       "<span style=\"font-family: monospace; color: #000\">2020-03-31 14:42:06 INFO  main  [PluginManager] Loading plugin &quot;plugins/diffuse.so&quot; ..</span>"
      ]
     },
     "metadata": {},
     "output_type": "display_data"
    },
    {
     "data": {
      "text/html": [
       "<span style=\"font-family: monospace; color: #000\">2020-03-31 14:42:06 INFO  main  [PluginManager] Loading plugin &quot;plugins/serialized.so&quot; ..</span>"
      ]
     },
     "metadata": {},
     "output_type": "display_data"
    },
    {
     "data": {
      "text/html": [
       "<span style=\"font-family: monospace; color: #000\">2020-03-31 14:42:06 INFO  main  [PluginManager] Loading plugin &quot;plugins/obj.so&quot; ..</span>"
      ]
     },
     "metadata": {},
     "output_type": "display_data"
    },
    {
     "data": {
      "text/html": [
       "<span style=\"font-family: monospace; color: #000\">2020-03-31 14:42:06 INFO  main  [PluginManager] Loading plugin &quot;plugins/constant.so&quot; ..</span>"
      ]
     },
     "metadata": {},
     "output_type": "display_data"
    },
    {
     "data": {
      "text/html": [
       "<span style=\"font-family: monospace; color: #000\">2020-03-31 14:42:06 INFO  main  [PluginManager] Loading plugin &quot;plugins/independent.so&quot; ..</span>"
      ]
     },
     "metadata": {},
     "output_type": "display_data"
    },
    {
     "data": {
      "text/html": [
       "<span style=\"font-family: monospace; color: #000\">2020-03-31 14:42:06 INFO  main  [PluginManager] Loading plugin &quot;plugins/box.so&quot; ..</span>"
      ]
     },
     "metadata": {},
     "output_type": "display_data"
    },
    {
     "data": {
      "text/html": [
       "<span style=\"font-family: monospace; color: #000\">2020-03-31 14:42:06 INFO  main  [PluginManager] Loading plugin &quot;plugins/hdrfilm.so&quot; ..</span>"
      ]
     },
     "metadata": {},
     "output_type": "display_data"
    },
    {
     "data": {
      "text/html": [
       "<span style=\"font-family: monospace; color: #000\">2020-03-31 14:42:06 INFO  main  [PluginManager] Loading plugin &quot;plugins/perspective.so&quot; ..</span>"
      ]
     },
     "metadata": {},
     "output_type": "display_data"
    },
    {
     "data": {
      "text/html": [
       "<span style=\"font-family: monospace; color: #000\">2020-03-31 14:42:06 INFO  main  [Scene] Validating and building scene in OptiX.</span>"
      ]
     },
     "metadata": {},
     "output_type": "display_data"
    },
    {
     "name": "stdout",
     "output_type": "stream",
     "text": [
      "K=human.bsdf.reflectance.value\n",
      "K=human.vertex_count\n",
      "K=human.face_count\n",
      "K=human.faces\n",
      "K=human.vertex_positions\n",
      "K=human.vertex_normals\n",
      "K=human.vertex_texcoords\n",
      "K=rect.bsdf.reflectance.value\n",
      "K=rect.vertex_count\n",
      "K=rect.face_count\n",
      "K=rect.faces\n",
      "K=rect.vertex_positions\n",
      "K=rect.vertex_normals\n",
      "K=rect.vertex_texcoords\n",
      "K=ConstantBackgroundEmitter.radiance.value\n",
      "K=PerspectiveCamera.near_clip\n",
      "K=PerspectiveCamera.far_clip\n",
      "K=PerspectiveCamera.focus_distance\n",
      "K=PerspectiveCamera.shutter_open\n",
      "K=PerspectiveCamera.shutter_open_time\n",
      "ParameterMap[\n",
      "  * human.bsdf.reflectance.value,\n",
      "    human.vertex_count,\n",
      "    human.face_count,\n",
      "    human.faces,\n",
      "  * human.vertex_positions,\n",
      "  * human.vertex_normals,\n",
      "  * human.vertex_texcoords,\n",
      "  * rect.bsdf.reflectance.value,\n",
      "    rect.vertex_count,\n",
      "    rect.face_count,\n",
      "    rect.faces,\n",
      "  * rect.vertex_positions,\n",
      "  * rect.vertex_normals,\n",
      "  * rect.vertex_texcoords,\n",
      "  * ConstantBackgroundEmitter.radiance.value,\n",
      "    PerspectiveCamera.near_clip,\n",
      "    PerspectiveCamera.far_clip,\n",
      "    PerspectiveCamera.focus_distance,\n",
      "    PerspectiveCamera.shutter_open,\n",
      "    PerspectiveCamera.shutter_open_time,\n",
      "]\n"
     ]
    }
   ],
   "source": [
    "STRIDE = 8\n",
    "PAD_VALUE = 128\n",
    "IMAGE_WIDTH, IMAGE_HEIGHT = 432, 368\n",
    "ORIG_SHAPE = (IMAGE_HEIGHT, IMAGE_WIDTH, 3)\n",
    "\n",
    "body_estimation = Body(\n",
    "    '/home/ax/data/programs/pytorch-openpose/model/body_pose_model.pth', True)\n",
    "\n",
    "# set defaults\n",
    "body_estimation.imageToTest_padded_shape = ORIG_SHAPE\n",
    "body_estimation.pad = [0, 0, 0, 0]\n",
    "\n",
    "device = torch.device(\"cuda:0\" if torch.cuda.is_available() else \"cpu\")\n",
    "print(device)\n",
    "\n",
    "Thread.thread().file_resolver().append('pose_scene')\n",
    "scene = load_file('pose_scene/scene_no_texture.xml')\n",
    "\n",
    "# Find differentiable scene parameters\n",
    "params = traverse(scene)\n",
    "print(params)\n",
    "\n",
    "# Render a reference image (no derivatives used yet)\n",
    "rendering_torch = render_torch(scene, spp=32)\n",
    "\n",
    "# make torch RGB to BGR\n",
    "PERMUTE_BGR = [2, 1, 0]\n",
    "rendering_torch_BGR = rendering_torch[:, :, PERMUTE_BGR]\n",
    "# permute and stack\n",
    "rendering_torch_input = torch.stack([rendering_torch_BGR.permute((2, 0, 1))  - 0.5])"
   ]
  },
  {
   "cell_type": "code",
   "execution_count": 5,
   "metadata": {},
   "outputs": [
    {
     "name": "stdout",
     "output_type": "stream",
     "text": [
      "{'human.vertex_positions': tensor([[-9.1756e+01,  1.3772e+02, -2.2231e+00],\n",
      "        [-9.1221e+01,  1.3758e+02, -2.0400e+00],\n",
      "        [-9.1033e+01,  1.3868e+02, -1.9917e+00],\n",
      "        ...,\n",
      "        [-7.2310e-01,  1.3888e+02,  1.8341e+01],\n",
      "        [-4.4737e-01,  1.3901e+02,  1.7802e+01],\n",
      "        [-1.0230e-01,  1.3673e+02,  1.6823e+01]], device='cuda:0',\n",
      "       requires_grad=True)}\n"
     ]
    }
   ],
   "source": [
    "diff_parameter = 'human.vertex_positions'\n",
    "params.keep([diff_parameter])\n",
    "params.update()\n",
    "# Which parameters should be exposed to the PyTorch optimizer?\n",
    "params_torch = params.torch()\n",
    "\n",
    "print(params_torch)"
   ]
  },
  {
   "cell_type": "code",
   "execution_count": 8,
   "metadata": {},
   "outputs": [],
   "source": [
    "# Construct a PyTorch Adam optimizer that will adjust 'params_torch'\n",
    "opt = torch.optim.Adam(params_torch.values(), lr=.2)\n",
    "objective = torch.nn.MSELoss()"
   ]
  },
  {
   "cell_type": "code",
   "execution_count": null,
   "metadata": {},
   "outputs": [],
   "source": [
    "joint_id = 4\n",
    "# Zero out gradients before each iteration\n",
    "opt.zero_grad()\n",
    "\n",
    "# render image\n",
    "cur_rednering_torch = render_torch(scene, params=params, unbiased=True, spp=16, **params_torch)\n",
    "\n",
    "# transform from rgb to bgr\n",
    "PERMUTE_BGR = [2, 1, 0]\n",
    "rendering_torch_BGR = cur_rednering_torch[:, :, PERMUTE_BGR]\n",
    "\n",
    "# permute channels to pytorch order and stack\n",
    "rendering_torch_input = torch.stack([rendering_torch_BGR.permute((2, 0, 1))  - 0.5])\n",
    "\n",
    "# compute the avg heatmap and paf map\n",
    "paf, heatmap = body_estimation.model(rendering_torch_input)\n",
    "\n",
    "# get the joint heatmap of the joint id\n",
    "joint_heatmap = heatmap[0, joint_id]\n",
    "\n",
    "\n",
    "single_zero_heatmap = torch.zeros((46, 54), device=device)\n",
    "ob_val = objective(joint_heatmap, single_zero_heatmap)\n",
    "print(ob_val)\n",
    "ob_val.backward()\n",
    "\n",
    "print(params_torch[diff_parameter].grad)\n"
   ]
  },
  {
   "cell_type": "code",
   "execution_count": 17,
   "metadata": {},
   "outputs": [
    {
     "name": "stdout",
     "output_type": "stream",
     "text": [
      "Iteration 099: error=2.03792\n",
      "34.053559 ms per iteration\n"
     ]
    }
   ],
   "source": [
    "time_a = time.time()\n",
    "\n",
    "iterations = 100\n",
    "for it in range(iterations):\n",
    "    # Zero out gradients before each iteration\n",
    "    opt.zero_grad()\n",
    "\n",
    "    # Perform a differentiable rendering of the scene\n",
    "    image = render_torch(scene, params=params, unbiased=True,\n",
    "                         spp=4, **params_torch)\n",
    "\n",
    "\n",
    "    # Objective: MSE between 'image' and 'image_ref'\n",
    "    ob_val = objective(image, rendering_torch)\n",
    "\n",
    "    # Back-propagate errors to input parameters\n",
    "    ob_val.backward()\n",
    "\n",
    "    # Optimizer: take a gradient step\n",
    "    opt.step()\n",
    "\n",
    "    # Compare iterate against ground-truth value\n",
    "    err_ref = objective(params_torch[diff_parameter], param_ref)\n",
    "    print('Iteration %03i: error=%g' % (it, err_ref), end='\\r')\n",
    "\n",
    "time_b = time.time()\n",
    "\n",
    "print()\n",
    "print('%f ms per iteration' % (((time_b - time_a) * 1000) / iterations))"
   ]
  },
  {
   "cell_type": "code",
   "execution_count": 18,
   "metadata": {},
   "outputs": [
    {
     "data": {
      "text/plain": [
       "(-0.5, 431.5, 367.5, -0.5)"
      ]
     },
     "execution_count": 18,
     "metadata": {},
     "output_type": "execute_result"
    },
    {
     "data": {
      "image/png": "[encoded data removed]",
      "text/plain": [
       "<Figure size 720x720 with 1 Axes>"
      ]
     },
     "metadata": {
      "needs_background": "light"
     },
     "output_type": "display_data"
    }
   ],
   "source": [
    "canvas = image.cpu().detach().numpy()\n",
    "fig = plt.figure(figsize=(10, 10))\n",
    "ax = fig.add_subplot(1, 1, 1)\n",
    "ax.imshow(canvas[:, :, [2, 1, 0]])\n",
    "ax.axis('off')"
   ]
  },
  {
   "cell_type": "code",
   "execution_count": null,
   "metadata": {},
   "outputs": [],
   "source": []
  }
 ],
 "metadata": {
  "kernelspec": {
   "display_name": "Python 3.7",
   "language": "python",
   "name": "python3"
  },
  "language_info": {
   "codemirror_mode": {
    "name": "ipython",
    "version": 3
   },
   "file_extension": ".py",
   "mimetype": "text/x-python",
   "name": "python",
   "nbconvert_exporter": "python",
   "pygments_lexer": "ipython3",
   "version": "3.7.6"
  }
 },
 "nbformat": 4,
 "nbformat_minor": 4
}
