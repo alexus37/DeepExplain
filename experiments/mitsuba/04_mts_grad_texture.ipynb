{
 "cells": [
  {
   "cell_type": "code",
   "execution_count": 1,
   "metadata": {},
   "outputs": [],
   "source": [
    "%load_ext autoreload\n",
    "%autoreload 2\n",
    "import enoki as ek\n",
    "import mitsuba\n",
    "mitsuba.set_variant('gpu_autodiff_rgb')\n",
    "\n",
    "import time\n",
    "import torch\n",
    "import cv2\n",
    "import copy\n",
    "from matplotlib import pyplot as plt\n",
    "import numpy as np\n",
    "from tqdm import tqdm\n",
    "import wandb\n",
    "from mitsuba.python.autodiff import render, render_torch, write_bitmap\n",
    "from mitsuba.python.util import traverse\n",
    "from mitsuba.core.xml import load_file\n",
    "from mitsuba.core import Thread, Vector3f\n",
    "\n",
    "\n",
    "from torch_openpose.body import Body\n",
    "from torch_openpose import util"
   ]
  },
  {
   "cell_type": "code",
   "execution_count": 2,
   "metadata": {},
   "outputs": [],
   "source": [
    "def wandb_init(name):\n",
    "    run = wandb.init(\n",
    "        project = \"mts_single_image_texture\", \n",
    "        reinit = True,\n",
    "        name = name,\n",
    "        config={\n",
    "            \"steps\": 1000,\n",
    "            \"epsilon\": 5000,\n",
    "            \"noise_width\": 200,\n",
    "            \"noise_height\": 400,\n",
    "        }\n",
    "    )\n",
    "    \n",
    "    return run "
   ]
  },
  {
   "cell_type": "code",
   "execution_count": 3,
   "metadata": {},
   "outputs": [
    {
     "name": "stdout",
     "output_type": "stream",
     "text": [
      "cuda:0\n"
     ]
    },
    {
     "data": {
      "text/html": [
       "<span style=\"font-family: monospace; color: #000\">2020-03-31 18:43:01 INFO  main  [xml.cpp:1117] Loading XML file &quot;pose_scene/scene.xml&quot; ..</span>"
      ]
     },
     "metadata": {},
     "output_type": "display_data"
    },
    {
     "data": {
      "text/html": [
       "<span style=\"font-family: monospace; color: #000\">2020-03-31 18:43:01 INFO  main  [xml.cpp:1118] Using variant &quot;gpu_autodiff_rgb&quot;</span>"
      ]
     },
     "metadata": {},
     "output_type": "display_data"
    },
    {
     "data": {
      "text/html": [
       "<span style=\"font-family: monospace; color: #000\">2020-03-31 18:43:01 INFO  main  [xml.cpp:348] &quot;pose_scene/scene.xml&quot;: in-memory version upgrade (v0.6.0 -&gt; v2.0.0) ..</span>"
      ]
     },
     "metadata": {},
     "output_type": "display_data"
    },
    {
     "data": {
      "text/html": [
       "<span style=\"font-family: monospace; color: #000\">2020-03-31 18:43:01 INFO  main  [PluginManager] Loading plugin &quot;plugins/uniform.so&quot; ..</span>"
      ]
     },
     "metadata": {},
     "output_type": "display_data"
    },
    {
     "data": {
      "text/html": [
       "<span style=\"font-family: monospace; color: #000\">2020-03-31 18:43:01 INFO  main  [PluginManager] Loading plugin &quot;plugins/direct.so&quot; ..</span>"
      ]
     },
     "metadata": {},
     "output_type": "display_data"
    },
    {
     "data": {
      "text/html": [
       "<span style=\"font-family: monospace; color: #000\">2020-03-31 18:43:01 INFO  main  [PluginManager] Loading plugin &quot;plugins/bitmap.so&quot; ..</span>"
      ]
     },
     "metadata": {},
     "output_type": "display_data"
    },
    {
     "data": {
      "text/html": [
       "<span style=\"font-family: monospace; color: #000\">2020-03-31 18:43:01 INFO  main  [PluginManager] Loading plugin &quot;plugins/diffuse.so&quot; ..</span>"
      ]
     },
     "metadata": {},
     "output_type": "display_data"
    },
    {
     "data": {
      "text/html": [
       "<span style=\"font-family: monospace; color: #000\">2020-03-31 18:43:01 INFO  main  [PluginManager] Loading plugin &quot;plugins/serialized.so&quot; ..</span>"
      ]
     },
     "metadata": {},
     "output_type": "display_data"
    },
    {
     "data": {
      "text/html": [
       "<span style=\"font-family: monospace; color: #000\">2020-03-31 18:43:01 INFO  main  [PluginManager] Loading plugin &quot;plugins/obj.so&quot; ..</span>"
      ]
     },
     "metadata": {},
     "output_type": "display_data"
    },
    {
     "data": {
      "text/html": [
       "<span style=\"font-family: monospace; color: #000\">2020-03-31 18:43:01 INFO  main  [PluginManager] Loading plugin &quot;plugins/constant.so&quot; ..</span>"
      ]
     },
     "metadata": {},
     "output_type": "display_data"
    },
    {
     "data": {
      "text/html": [
       "<span style=\"font-family: monospace; color: #000\">2020-03-31 18:43:01 INFO  main  [PluginManager] Loading plugin &quot;plugins/independent.so&quot; ..</span>"
      ]
     },
     "metadata": {},
     "output_type": "display_data"
    },
    {
     "data": {
      "text/html": [
       "<span style=\"font-family: monospace; color: #000\">2020-03-31 18:43:01 INFO  main  [PluginManager] Loading plugin &quot;plugins/box.so&quot; ..</span>"
      ]
     },
     "metadata": {},
     "output_type": "display_data"
    },
    {
     "data": {
      "text/html": [
       "<span style=\"font-family: monospace; color: #000\">2020-03-31 18:43:01 INFO  main  [PluginManager] Loading plugin &quot;plugins/hdrfilm.so&quot; ..</span>"
      ]
     },
     "metadata": {},
     "output_type": "display_data"
    },
    {
     "data": {
      "text/html": [
       "<span style=\"font-family: monospace; color: #000\">2020-03-31 18:43:01 INFO  main  [PluginManager] Loading plugin &quot;plugins/perspective.so&quot; ..</span>"
      ]
     },
     "metadata": {},
     "output_type": "display_data"
    },
    {
     "data": {
      "text/html": [
       "<span style=\"font-family: monospace; color: #000\">2020-03-31 18:43:01 INFO  main  [Scene] Validating and building scene in OptiX.</span>"
      ]
     },
     "metadata": {},
     "output_type": "display_data"
    },
    {
     "name": "stderr",
     "output_type": "stream",
     "text": [
      "Clipping input data to the valid range for imshow with RGB data ([0..1] for floats or [0..255] for integers).\n"
     ]
    },
    {
     "data": {
      "text/plain": [
       "(-0.5, 431.5, 367.5, -0.5)"
      ]
     },
     "execution_count": 3,
     "metadata": {},
     "output_type": "execute_result"
    },
    {
     "data": {
      "image/png": "[encoded data removed]",
      "text/plain": [
       "<Figure size 720x720 with 1 Axes>"
      ]
     },
     "metadata": {
      "needs_background": "light"
     },
     "output_type": "display_data"
    }
   ],
   "source": [
    "STRIDE = 8\n",
    "PAD_VALUE = 128\n",
    "IMAGE_WIDTH, IMAGE_HEIGHT = 432, 368\n",
    "ORIG_SHAPE = (IMAGE_HEIGHT, IMAGE_WIDTH, 3)\n",
    "\n",
    "body_estimation = Body(\n",
    "    '/home/ax/data/programs/pytorch-openpose/model/body_pose_model.pth', True)\n",
    "\n",
    "# set defaults\n",
    "body_estimation.imageToTest_padded_shape = ORIG_SHAPE\n",
    "body_estimation.pad = [0, 0, 0, 0]\n",
    "\n",
    "device = torch.device(\"cuda:0\" if torch.cuda.is_available() else \"cpu\")\n",
    "print(device)\n",
    "\n",
    "Thread.thread().file_resolver().append('pose_scene')\n",
    "scene = load_file('pose_scene/scene.xml')\n",
    "\n",
    "# Find differentiable scene parameters\n",
    "params = traverse(scene)\n",
    "# print(params)\n",
    "\n",
    "\n",
    "# Render a reference image (no derivatives used yet)\n",
    "rendering_torch = render_torch(scene, spp=32)\n",
    "\n",
    "# make torch RGB to BGR\n",
    "PERMUTE_BGR = [2, 1, 0]\n",
    "rendering_torch_BGR = rendering_torch[:, :, PERMUTE_BGR]\n",
    "# permute and stack\n",
    "rendering_torch_input = torch.stack([rendering_torch_BGR.permute((2, 0, 1))  - 0.5])\n",
    "\n",
    "canvas = rendering_torch_BGR.cpu().detach().numpy() \n",
    "fig = plt.figure(figsize=(10, 10))\n",
    "ax = fig.add_subplot(1, 1, 1)\n",
    "ax.imshow(canvas[:, :, [2, 1, 0]])\n",
    "ax.axis('off')"
   ]
  },
  {
   "cell_type": "code",
   "execution_count": 4,
   "metadata": {},
   "outputs": [
    {
     "name": "stdout",
     "output_type": "stream",
     "text": [
      "torch.Size([240000])\n",
      "240000\n"
     ]
    }
   ],
   "source": [
    "print(params_torch[diff_parameter].shape)\n",
    "print(200*400 *3)"
   ]
  },
  {
   "cell_type": "code",
   "execution_count": 5,
   "metadata": {},
   "outputs": [],
   "source": [
    "# Construct a PyTorch Adam optimizer that will adjust 'params_torch'\n",
    "opt = torch.optim.Adam(params_torch.values(), lr=.2)\n",
    "objective = torch.nn.MSELoss()\n",
    "#ek.set_requires_gradient(params[diff_parameter])"
   ]
  },
  {
   "cell_type": "code",
   "execution_count": 6,
   "metadata": {},
   "outputs": [
    {
     "name": "stdout",
     "output_type": "stream",
     "text": [
      "torch.Size([1, 3, 368, 432])\n",
      "tensor(0.0010, device='cuda:0', grad_fn=<MseLossBackward>)\n",
      "tensor([0., 0., 0.,  ..., 0., 0., 0.], device='cuda:0')\n"
     ]
    }
   ],
   "source": [
    "for steps \n",
    "joint_id = 4\n",
    "# Zero out gradients before each iteration\n",
    "opt.zero_grad()\n",
    "body_estimation.model.zero_grad()\n",
    "\n",
    "# render image\n",
    "# maybe add malloc_trim=True if memory issues\n",
    "cur_rednering_torch = render_torch(scene, params=params, unbiased=True, spp=16, **params_torch)\n",
    "\n",
    "# transform from rgb to bgr\n",
    "PERMUTE_BGR = [2, 1, 0]\n",
    "rendering_torch_BGR = cur_rednering_torch[:, :, PERMUTE_BGR]\n",
    "\n",
    "# permute channels to pytorch order and stack\n",
    "rendering_torch_input = torch.stack([rendering_torch_BGR.permute((2, 0, 1))  - 0.5])\n",
    "\n",
    "print(rendering_torch_input.shape)\n",
    "\n",
    "# compute the avg heatmap and paf map\n",
    "paf, heatmap = body_estimation.model(rendering_torch_input)\n",
    "\n",
    "# get the joint heatmap of the joint id\n",
    "joint_heatmap = heatmap[0, joint_id]\n",
    "\n",
    "\n",
    "single_zero_heatmap = torch.zeros((46, 54), device=device)\n",
    "ob_val = objective(joint_heatmap, single_zero_heatmap)\n",
    "print(ob_val)\n",
    "ob_val.backward()\n",
    "\n",
    "print(params_torch[diff_parameter].grad)\n"
   ]
  },
  {
   "cell_type": "code",
   "execution_count": 7,
   "metadata": {},
   "outputs": [
    {
     "name": "stdout",
     "output_type": "stream",
     "text": [
      "-4.2721904e-06\n",
      "4.1018807e-06\n",
      "Tensor\n"
     ]
    }
   ],
   "source": [
    "noise_resolution  = np.array([200, 400])\n",
    "grad_np = params_torch[diff_parameter].grad.cpu().detach().numpy()\n",
    "grad_image = grad_np.reshape(noise_resolution[1], noise_resolution[0], -1)\n",
    "print(np.min(grad_image))\n",
    "print(np.max(grad_image))\n",
    "print(type(params_torch[diff_parameter].grad).__name__)"
   ]
  },
  {
   "cell_type": "code",
   "execution_count": 4,
   "metadata": {},
   "outputs": [
    {
     "data": {
      "text/html": [
       "\n",
       "                Logging results to <a href=\"https://wandb.com\" target=\"_blank\">Weights & Biases</a> <a href=\"https://docs.wandb.com/integrations/jupyter.html\" target=\"_blank\">(Documentation)</a>.<br/>\n",
       "                Project page: <a href=\"https://app.wandb.ai/alexus/mts_single_image_texture\" target=\"_blank\">https://app.wandb.ai/alexus/mts_single_image_texture</a><br/>\n",
       "                Run page: <a href=\"https://app.wandb.ai/alexus/mts_single_image_texture/runs/yuxv18cp\" target=\"_blank\">https://app.wandb.ai/alexus/mts_single_image_texture/runs/yuxv18cp</a><br/>\n",
       "            "
      ],
      "text/plain": [
       "<IPython.core.display.HTML object>"
      ]
     },
     "metadata": {},
     "output_type": "display_data"
    },
    {
     "name": "stderr",
     "output_type": "stream",
     "text": [
      "  0%|          | 0/1000 [00:00<?, ?it/s]"
     ]
    },
    {
     "name": "stdout",
     "output_type": "stream",
     "text": [
      "{'rect.bsdf.reflectance.data': tensor([0.0003, 0.0003, 0.0003,  ..., 0.0006, 0.0006, 0.0006], device='cuda:0',\n",
      "       requires_grad=True)}\n"
     ]
    },
    {
     "name": "stderr",
     "output_type": "stream",
     "text": [
      "100%|██████████| 1000/1000 [07:36<00:00,  2.19it/s]\n"
     ]
    }
   ],
   "source": [
    "run = wandb_init('second try')\n",
    "noise_resolution  = np.array([200, 400])\n",
    "\n",
    "diff_parameter = 'rect.bsdf.reflectance.data'\n",
    "params.keep([diff_parameter])\n",
    "params.update()\n",
    "# Which parameters should be exposed to the PyTorch optimizer?\n",
    "params_torch = params.torch()\n",
    "print(params_torch)\n",
    "\n",
    "# set up optimizer\n",
    "opt = torch.optim.Adam(params_torch.values(), lr=.2)\n",
    "objective = torch.nn.MSELoss()\n",
    "\n",
    "# target\n",
    "zero_heatmap = torch.zeros((1, 19, 46, 54), device=device)\n",
    "zero_paf = torch.zeros((1, 38, 46, 54), device=device)\n",
    "\n",
    "for step in tqdm(range(run.config.steps)):\n",
    "    if step % 50 ==  0:\n",
    "        write_bitmap('output/texture_%03i.png' % step, params_torch[diff_parameter], noise_resolution)\n",
    "    opt.zero_grad()\n",
    "    body_estimation.model.zero_grad()\n",
    "\n",
    "    # render image\n",
    "    # maybe add malloc_trim=True if memory issues\n",
    "    cur_rednering_torch = render_torch(scene, params=params, unbiased=True, spp=16, **params_torch)\n",
    "\n",
    "    # transform from rgb to bgr\n",
    "    PERMUTE_BGR = [2, 1, 0]\n",
    "    rendering_torch_BGR = cur_rednering_torch[:, :, PERMUTE_BGR]\n",
    "\n",
    "    # permute channels to pytorch order and stack\n",
    "    rendering_torch_input = torch.stack([rendering_torch_BGR.permute((2, 0, 1))  - 0.5])\n",
    "\n",
    "    # compute the avg heatmap and paf map\n",
    "    paf, heatmap = body_estimation.model(rendering_torch_input)\n",
    "\n",
    "    \n",
    "    ob_val_heat = objective(heatmap, zero_heatmap)\n",
    "    ob_val_paf = objective(paf, zero_paf)\n",
    "    ob_val = ob_val_heat + ob_val_paf\n",
    "    \n",
    "    # calc gradient\n",
    "    ob_val.backward()\n",
    "    \n",
    "    # take a step in gradient direction\n",
    "    opt.step()\n",
    "    \n",
    "    # log the loss\n",
    "    wandb.log({'loss': ob_val.item()}, step=step)\n",
    "\n",
    "    \n"
   ]
  },
  {
   "cell_type": "code",
   "execution_count": null,
   "metadata": {},
   "outputs": [],
   "source": []
  }
 ],
 "metadata": {
  "kernelspec": {
   "display_name": "Python 3.7",
   "language": "python",
   "name": "python3"
  },
  "language_info": {
   "codemirror_mode": {
    "name": "ipython",
    "version": 3
   },
   "file_extension": ".py",
   "mimetype": "text/x-python",
   "name": "python",
   "nbconvert_exporter": "python",
   "pygments_lexer": "ipython3",
   "version": "3.7.6"
  }
 },
 "nbformat": 4,
 "nbformat_minor": 4
}
