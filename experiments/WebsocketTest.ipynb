{
 "cells": [
  {
   "cell_type": "code",
   "execution_count": 1,
   "metadata": {},
   "outputs": [],
   "source": [
    "import asyncio\n",
    "import datetime\n",
    "import random\n",
    "import websockets\n",
    "import nest_asyncio\n",
    "import http.server\n",
    "import socketserver\n",
    "import threading\n",
    "from IPython.display import IFrame\n",
    "nest_asyncio.apply()\n"
   ]
  },
  {
   "cell_type": "code",
   "execution_count": 2,
   "metadata": {},
   "outputs": [],
   "source": [
    "async def time(websocket, path):\n",
    "    while True:\n",
    "        now = datetime.datetime.utcnow().isoformat() + \"Z\"\n",
    "        await websocket.send(now)\n",
    "        await asyncio.sleep(random.random() * 3)\n",
    "\n",
    "def run_server():\n",
    "    loop = asyncio.new_event_loop()\n",
    "    asyncio.set_event_loop(loop)\n",
    "    start_server = websockets.serve(time, \"127.0.0.1\", 1234)\n",
    "    loop.run_until_complete(start_server)\n",
    "    loop.run_forever()\n",
    "    \n",
    "def run_http_server():\n",
    "    PORT = 8080\n",
    "    Handler = http.server.SimpleHTTPRequestHandler\n",
    "\n",
    "    with socketserver.TCPServer((\"\", PORT), Handler) as httpd:\n",
    "        print(\"serving at port\", PORT)\n",
    "        httpd.serve_forever()"
   ]
  },
  {
   "cell_type": "code",
   "execution_count": 9,
   "metadata": {},
   "outputs": [
    {
     "name": "stdout",
     "output_type": "stream",
     "text": [
      "serving at port 8080\n"
     ]
    },
    {
     "name": "stderr",
     "output_type": "stream",
     "text": [
      "127.0.0.1 - - [21/Dec/2019 12:53:01] \"GET / HTTP/1.1\" 200 -\n",
      "127.0.0.1 - - [21/Dec/2019 12:53:10] \"GET /diffViewer/ HTTP/1.1\" 200 -\n",
      "127.0.0.1 - - [21/Dec/2019 12:53:10] \"GET /diffViewer/jquery-2.1.1.js HTTP/1.1\" 200 -\n",
      "127.0.0.1 - - [21/Dec/2019 12:53:10] \"GET /diffViewer/first.png HTTP/1.1\" 200 -\n",
      "127.0.0.1 - - [21/Dec/2019 12:53:10] \"GET /diffViewer/second.png HTTP/1.1\" 200 -\n"
     ]
    }
   ],
   "source": [
    "t1 = threading.Thread(target=run_http_server)\n",
    "t1.start()"
   ]
  },
  {
   "cell_type": "code",
   "execution_count": 12,
   "metadata": {},
   "outputs": [],
   "source": [
    "t2 = threading.Thread(target=run_server)\n",
    "t2.start()"
   ]
  },
  {
   "cell_type": "code",
   "execution_count": 15,
   "metadata": {},
   "outputs": [
    {
     "data": {
      "text/html": [
       "\n",
       "        <iframe\n",
       "            width=\"800\"\n",
       "            height=\"600\"\n",
       "            src=\"http://0.0.0.0:8080/diffViewer/index.html\"\n",
       "            frameborder=\"0\"\n",
       "            allowfullscreen\n",
       "        ></iframe>\n",
       "        "
      ],
      "text/plain": [
       "<IPython.lib.display.IFrame at 0x7f4c381a0e80>"
      ]
     },
     "execution_count": 15,
     "metadata": {},
     "output_type": "execute_result"
    },
    {
     "name": "stderr",
     "output_type": "stream",
     "text": [
      "127.0.0.1 - - [21/Dec/2019 12:54:27] \"GET /diffViewer/index.html HTTP/1.1\" 200 -\n",
      "127.0.0.1 - - [21/Dec/2019 12:54:27] \"GET /diffViewer/jquery-2.1.1.js HTTP/1.1\" 200 -\n",
      "127.0.0.1 - - [21/Dec/2019 12:54:27] \"GET /diffViewer/first.png HTTP/1.1\" 200 -\n",
      "127.0.0.1 - - [21/Dec/2019 12:54:27] \"GET /diffViewer/second.png HTTP/1.1\" 200 -\n"
     ]
    }
   ],
   "source": [
    "IFrame(src='http://0.0.0.0:8080/diffViewer/index.html', width=800, height=600)"
   ]
  },
  {
   "cell_type": "code",
   "execution_count": null,
   "metadata": {},
   "outputs": [],
   "source": []
  }
 ],
 "metadata": {
  "kernelspec": {
   "display_name": "Python [conda env:masterThesis_tf_2] *",
   "language": "python",
   "name": "conda-env-masterThesis_tf_2-py"
  },
  "language_info": {
   "codemirror_mode": {
    "name": "ipython",
    "version": 3
   },
   "file_extension": ".py",
   "mimetype": "text/x-python",
   "name": "python",
   "nbconvert_exporter": "python",
   "pygments_lexer": "ipython3",
   "version": "3.6.9"
  }
 },
 "nbformat": 4,
 "nbformat_minor": 4
}
