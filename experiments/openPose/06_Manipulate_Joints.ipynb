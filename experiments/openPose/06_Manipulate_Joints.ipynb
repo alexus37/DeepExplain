{
 "cells": [
  {
   "cell_type": "markdown",
   "metadata": {
    "lines_to_next_cell": 2
   },
   "source": [
    "# Manipulate position of joints\n",
    "\n",
    "This notebook tries to change the output of the openpose network to \n",
    "move any joint to a wanted postion"
   ]
  },
  {
   "cell_type": "code",
   "execution_count": 1,
   "metadata": {},
   "outputs": [
    {
     "name": "stdout",
     "output_type": "stream",
     "text": [
      "WARNING:tensorflow:\n",
      "The TensorFlow contrib module will not be included in TensorFlow 2.0.\n",
      "For more information, please see:\n",
      "  * https://github.com/tensorflow/community/blob/master/rfcs/20180907-contrib-sunset.md\n",
      "  * https://github.com/tensorflow/addons\n",
      "  * https://github.com/tensorflow/io (for I/O related ops)\n",
      "If you depend on functionality not listed there, please file an issue.\n",
      "\n",
      "WARNING:tensorflow:From /home/ax/Programs/tf-pose-estimation/tf_pose/mobilenet/mobilenet.py:369: The name tf.nn.avg_pool is deprecated. Please use tf.nn.avg_pool2d instead.\n",
      "\n"
     ]
    }
   ],
   "source": [
    "%load_ext autoreload\n",
    "%autoreload 2\n",
    "# imports\n",
    "import logging\n",
    "import os\n",
    "import sys\n",
    "\n",
    "import cv2\n",
    "import numpy as np\n",
    "from matplotlib import pyplot as plt\n",
    "\n",
    "from plot_utils import plot_vector_field\n",
    "from tf_pose import common\n",
    "from tf_pose.common import CocoPairs, CocoPairsNetwork, CocoPart\n",
    "from tf_pose.estimator import PoseEstimator, TfPoseEstimator\n",
    "from tf_pose.networks import get_graph_path\n",
    "\n",
    "os.environ[\"TF_CPP_MIN_LOG_LEVEL\"] = \"3\"\n",
    "logging.getLogger(\"tensorflow\").setLevel(logging.CRITICAL)\n",
    "logging.getLogger('TfPoseEstimatorRun').setLevel(logging.ERROR)\n",
    "logging.getLogger('DeepExplain').setLevel(logging.ERROR)\n",
    "logging.getLogger('TfPoseEstimator').setLevel(logging.ERROR)"
   ]
  },
  {
   "cell_type": "code",
   "execution_count": null,
   "metadata": {},
   "outputs": [],
   "source": [
    "# params 432, 368\n",
    "w, h = 432, 368\n",
    "\n",
    "image_path = '../data/images/muscle.jpg'\n",
    "model = 'cmu'\n",
    "resize_out_ratio = 2.0\n",
    "image = common.read_imgfile(image_path, w, h)"
   ]
  },
  {
   "cell_type": "code",
   "execution_count": null,
   "metadata": {},
   "outputs": [],
   "source": [
    "e = TfPoseEstimator(get_graph_path(model), target_size=(w, h), trt_bool=False)\n",
    "# compute with and without\n",
    "humans_original = e.inference(image, resize_to_default=(\n",
    "    w > 0 and h > 0), upsample_size=resize_out_ratio)"
   ]
  },
  {
   "cell_type": "code",
   "execution_count": null,
   "metadata": {
    "lines_to_next_cell": 0
   },
   "outputs": [],
   "source": [
    "def get_index_on_line(peak_a, peak_b, steps=1000):\n",
    "    indicies_on_line = []\n",
    "    step_vec = (peak_b - peak_a) / float(steps)\n",
    "\n",
    "    for i in range(steps):\n",
    "        index = peak_a + i * step_vec\n",
    "        index = np.ceil(index)\n",
    "        indicies_on_line.append(index.astype(int))\n",
    "\n",
    "    return indicies_on_line\n",
    "\n",
    "\n",
    "def lies_between(A, B, C):\n",
    "    a = np.linalg.norm(C - B)\n",
    "    b = np.linalg.norm(C - A)\n",
    "    c = np.linalg.norm(B - A)\n",
    "    return a**2 + b**2 >= c**2 and a**2 + c**2 >= b**2\n",
    "\n",
    "\n",
    "def get_index_near_line(data, p1, p2, distance=10):\n",
    "    indicies_near_line = []\n",
    "    for p3, value in np.ndenumerate(data):\n",
    "        dist_to_line = np.linalg.norm(\n",
    "            np.cross(p2-p1, p1-p3))/np.linalg.norm(p2-p1)\n",
    "        if dist_to_line < distance and lies_between(p3, p1, p2):\n",
    "            indicies_near_line.append(p3)\n",
    "    return indicies_near_line\n",
    "\n",
    "\n",
    "def get_affected_pairs(index):\n",
    "    return list(filter(lambda pair: pair[1][0] == index or pair[1][1] == index, enumerate(CocoPairs)))\n",
    "\n",
    "# position where to put the peak\n",
    "\n",
    "\n",
    "def modify_joint(old_peaks, old_heatMat, old_pafMat, change_id, pos_x=40, pos_y=60):\n",
    "    # copy the required mats\n",
    "    peaks = np.copy(old_peaks)\n",
    "    heatMat = np.copy(old_heatMat)\n",
    "    pafMat = np.copy(old_pafMat)\n",
    "    eps = 0.0001\n",
    "    print(f'Changing {change_id} part')\n",
    "\n",
    "    # CHANGE VLAUES OF THE PEAKS\n",
    "    # change PAFs\n",
    "    # find all affected PAF\n",
    "    affected_pafs = get_affected_pairs(change_id)\n",
    "    for (part_id, (peak_a_id, peak_b_id)) in affected_pafs:\n",
    "        peak_id = peak_a_id if peak_b_id == change_id else peak_b_id\n",
    "\n",
    "        # find the peak connect to the joint we want to move\n",
    "        peak_y, peak_x = np.unravel_index(\n",
    "            peaks[:, :, peak_id].argmax(), peaks[:, :, peak_id].shape)\n",
    "        print(f'SET pos x: {pos_x}, y: {pos_y}')\n",
    "        print(f'Peak pos x: {peak_x}, y: {peak_y}')\n",
    "\n",
    "        vec = np.array([pos_x - peak_x, pos_y - peak_y]).astype('float64')\n",
    "        vec /= np.linalg.norm(vec)\n",
    "        if peak_a_id == change_id:\n",
    "            vec *= -1.0\n",
    "        print(f'Vec x: {vec[0]}, y: {vec[1]}')\n",
    "\n",
    "        # compute the index on the line between the two points\n",
    "        index_to_change = get_index_near_line(\n",
    "            np.zeros(shape=pafMat.shape[:2]),\n",
    "            np.array([peak_x, peak_y]),\n",
    "            np.array([pos_x, pos_y]),\n",
    "            1\n",
    "        )\n",
    "\n",
    "        # reset the PAF\n",
    "        # which paf in the network\n",
    "        joint_id = CocoPairsNetwork[part_id]\n",
    "        # set all values to zero\n",
    "        pafMat[:, :, joint_id[0]] = np.zeros(shape=pafMat.shape[:2])\n",
    "        pafMat[:, :, joint_id[1]] = np.zeros(shape=pafMat.shape[:2])\n",
    "\n",
    "        # set only the required parts\n",
    "        for (x, y) in index_to_change:\n",
    "            pafMat[y, x, joint_id[0]] = vec[0]\n",
    "            pafMat[y, x, joint_id[1]] = vec[1]\n",
    "\n",
    "    # change heat\n",
    "    # only one point is needed\n",
    "    cur_heat_max_val = np.max(heatMat[:, :, change_id])\n",
    "    heatMat[:, :, change_id] = np.zeros(shape=peaks.shape[:2])\n",
    "    heatMat[pos_y, pos_x, change_id] = cur_heat_max_val + eps\n",
    "\n",
    "    # change peak position\n",
    "    cur_max = np.max(peaks[:, :, change_id])\n",
    "    peaks[:, :, change_id] = np.zeros(shape=peaks.shape[:2])\n",
    "    peaks[pos_y, pos_x, change_id] = cur_max + eps\n",
    "    return peaks, heatMat, pafMat"
   ]
  },
  {
   "cell_type": "code",
   "execution_count": null,
   "metadata": {},
   "outputs": [],
   "source": [
    "COCO_id = CocoPart.RElbow.value\n",
    "peaks, heatMat, pafMat = modify_joint(\n",
    "    e.peaks, e.heatMat, e.pafMat, COCO_id, 10, 20)\n",
    "peaks, heatMat, pafMat = modify_joint(\n",
    "    peaks, heatMat, pafMat, CocoPart.RWrist.value, 30, 5)\n",
    "peaks, heatMat, pafMat = modify_joint(\n",
    "    peaks, heatMat, pafMat, CocoPart.LElbow.value, 70, 20)\n",
    "peaks, heatMat, pafMat = modify_joint(\n",
    "    peaks, heatMat, pafMat, CocoPart.LWrist.value, 90, 5)\n",
    "humans_modified = PoseEstimator.estimate_paf(peaks, heatMat, pafMat)"
   ]
  },
  {
   "cell_type": "code",
   "execution_count": null,
   "metadata": {
    "lines_to_next_cell": 2
   },
   "outputs": [],
   "source": [
    "part = humans_original[0].body_parts[COCO_id]\n",
    "print(f'ORIG: score: {part.score} x: {part.x} y: {part.y} ')\n",
    "part = humans_modified[0].body_parts[COCO_id]\n",
    "print(f'OCCULED: score: {part.score} x: {part.x} y: {part.y} ')"
   ]
  },
  {
   "cell_type": "code",
   "execution_count": null,
   "metadata": {},
   "outputs": [],
   "source": [
    "fig = plt.figure(figsize=(50, 25))\n",
    "a = fig.add_subplot(1, 3, 1)\n",
    "a.set_title('Different peak locations ORIG: RED, MODIFIED: BLUE')\n",
    "peak_orig = e.peaks[:, :, COCO_id]\n",
    "peak_black = peaks[:, :, COCO_id]\n",
    "\n",
    "comb_image = np.amax([peak_orig, peak_black], axis=0)\n",
    "comb_image[comb_image == np.max(peak_orig)] = 1.0\n",
    "comb_image[comb_image == np.max(peak_black)] = -1.0\n",
    "a.imshow(comb_image, cmap=plt.cm.seismic)\n",
    "\n",
    "# draw orig\n",
    "a = fig.add_subplot(1, 3, 2)\n",
    "image_result = TfPoseEstimator.draw_humans(\n",
    "    image, humans_original, imgcopy=True)\n",
    "a.set_title('Result ORIGNAL')\n",
    "plt.imshow(cv2.cvtColor(image_result, cv2.COLOR_BGR2RGB))\n",
    "\n",
    "# draw modified\n",
    "a = fig.add_subplot(1, 3, 3)\n",
    "image_result = TfPoseEstimator.draw_humans(\n",
    "    image, humans_modified, imgcopy=True)\n",
    "a.set_title('Result MODIFIED')\n",
    "plt.imshow(cv2.cvtColor(image_result, cv2.COLOR_BGR2RGB))"
   ]
  },
  {
   "cell_type": "code",
   "execution_count": null,
   "metadata": {},
   "outputs": [],
   "source": [
    "fig = plt.figure(figsize=(20, 10))\n",
    "ax = fig.add_subplot(1, 2, 1)\n",
    "ax.imshow(e.heatMat[:, :, COCO_id])\n",
    "ax.set_title('ORIGNAL HEATMAP')\n",
    "\n",
    "ax = fig.add_subplot(1, 2, 2)\n",
    "ax.imshow(heatMat[:, :, COCO_id])\n",
    "ax.set_title('MODIFIED HEATMAP')"
   ]
  },
  {
   "cell_type": "code",
   "execution_count": null,
   "metadata": {},
   "outputs": [],
   "source": [
    "def get_UV(mats, change_id):\n",
    "    U = []\n",
    "    V = []\n",
    "    affected_pafs = get_affected_pairs(change_id)\n",
    "    for (part_id, (peak_a_id, peak_b_id)) in affected_pafs:\n",
    "        joint_id = CocoPairsNetwork[part_id]\n",
    "\n",
    "        U.append(np.copy(mats[:, :, joint_id[0]]) * (-1.0))\n",
    "        V.append(np.copy(mats[:, :, joint_id[1]]))\n",
    "    U = np.apply_along_axis(lambda x: max(x.min(), x.max(), key=abs), 0, U)\n",
    "    V = np.apply_along_axis(lambda x: max(x.min(), x.max(), key=abs), 0, V)\n",
    "    return U, V\n",
    "\n",
    "\n",
    "fig = plt.figure(figsize=(40, 20))\n",
    "ax = fig.add_subplot(1, 2, 1)\n",
    "bgimg = cv2.resize(\n",
    "    image, (e.pafMat.shape[1], e.pafMat.shape[0]), interpolation=cv2.INTER_AREA)\n",
    "\n",
    "U, V = get_UV(e.pafMat, COCO_id)\n",
    "plot_vector_field(U, V, bgimg, ax, fig)\n",
    "\n",
    "ax = fig.add_subplot(1, 2, 2)\n",
    "U, V = get_UV(pafMat, COCO_id)\n",
    "plot_vector_field(U, V, bgimg, ax, fig)"
   ]
  }
 ],
 "metadata": {
  "kernelspec": {
   "display_name": "Python [conda env:masterThesis] *",
   "language": "python",
   "name": "conda-env-masterThesis-py"
  },
  "language_info": {
   "codemirror_mode": {
    "name": "ipython",
    "version": 3
   },
   "file_extension": ".py",
   "mimetype": "text/x-python",
   "name": "python",
   "nbconvert_exporter": "python",
   "pygments_lexer": "ipython3",
   "version": "3.6.9"
  }
 },
 "nbformat": 4,
 "nbformat_minor": 4
}
