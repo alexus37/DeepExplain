{
 "cells": [
  {
   "cell_type": "code",
   "execution_count": 1,
   "metadata": {},
   "outputs": [],
   "source": [
    "import xml.dom.minidom\n",
    "import uuid\n",
    "import subprocess\n",
    "import os\n",
    "from tqdm import tqdm\n",
    "import random \n",
    "import shutil "
   ]
  },
  {
   "cell_type": "code",
   "execution_count": 7,
   "metadata": {},
   "outputs": [],
   "source": [
    "# consts\n",
    "SCENE_FILE_MASTER = 'master_v2.xml'\n",
    "DATA_SET_ROOT = '/home/ax/master/2019_02/masterThesis/DeepExplain/experiments/data/generated/test'\n",
    "if not os.path.exists(DATA_SET_ROOT):\n",
    "    os.mkdir(DATA_SET_ROOT)\n",
    "master_doc = xml.dom.minidom.parse(SCENE_FILE_MASTER)\n",
    "SAMPLES = 200\n",
    "X_MIN = -100\n",
    "X_MAX = 100\n",
    "Z_MIN = -500\n",
    "Z_MAX = 0\n",
    "ANGLE_MIN = -60\n",
    "ANGLE_MAX = 60\n",
    "\n",
    "POSE_ID_MIN = 1\n",
    "POSE_ID_MAX = 11\n",
    "\n",
    "master_requirements = [f'pose_0_{i}.serialized' for i in range(POSE_ID_MIN, POSE_ID_MAX)]\n",
    "master_requirements.append('MikeAlger_Texture.jpeg')\n",
    "\n",
    "for file in master_requirements:\n",
    "    shutil.copy(file, f'{DATA_SET_ROOT}/{file}')\n",
    "# requirements for mitsuba\n",
    "my_env = os.environ.copy()\n",
    "my_env[\"LD_LIBRARY_PATH\"] = \"/home/ax/Programs/mitsuba/dist:\" + my_env[\"LD_LIBRARY_PATH\"]\n",
    "my_env[\"PATH\"] = \"/home/ax/Programs/mitsuba/dist:\" + my_env[\"PATH\"]"
   ]
  },
  {
   "cell_type": "code",
   "execution_count": 8,
   "metadata": {},
   "outputs": [],
   "source": [
    "# compute a scene string\n",
    "def get_scene_xml_string(doc, x, z, angle, pose_id):\n",
    "    \n",
    "    shape_node_human = doc.getElementsByTagName('shape')[0]\n",
    "    transform_node = shape_node_human.getElementsByTagName('transform')[0]\n",
    "    translation_node = transform_node.getElementsByTagName('translate')[0]\n",
    "    rotation_node = transform_node.getElementsByTagName('rotate')[0]\n",
    "    filename_node = shape_node_human.getElementsByTagName('string')[0]\n",
    "    \n",
    "    translation_node.setAttribute('z', str(z)) \n",
    "    translation_node.setAttribute('x', str(x))\n",
    "    rotation_node.setAttribute('angle', str(angle))\n",
    "    filename_node.setAttribute('value', f\"pose_0_{pose_id}.serialized\")\n",
    "    \n",
    "    shape_node_rect = doc.getElementsByTagName('shape')[1]\n",
    "    transform_node = shape_node_rect.getElementsByTagName('transform')[0]\n",
    "    translation_node = transform_node.getElementsByTagName('translate')[1]\n",
    "    rotation_node = transform_node.getElementsByTagName('rotate')[0]\n",
    "    \n",
    "    translation_node.setAttribute('z', str(z)) \n",
    "    translation_node.setAttribute('x', str(x))\n",
    "    rotation_node.setAttribute('angle', str(angle))\n",
    "    \n",
    "    return doc.toxml()\n",
    "\n",
    "# save the scene to file\n",
    "def save_scene(scene_str, pose_id, path=DATA_SET_ROOT):\n",
    "    file_name = f'{path}/a_{pose_id}_{uuid.uuid4()}.xml'\n",
    "    with open(file_name, \"w\") as f:\n",
    "        f.write(scene_str)\n",
    "    return file_name\n",
    "\n",
    "# \n",
    "def render_scene(filename):\n",
    "    cmd = [\"/home/ax/Programs/mitsuba/build/release/mitsuba/mitsuba\", filename]\n",
    "    cmd_out = subprocess.run(cmd, check=True, env=my_env)\n",
    "    return filename.replace('xml', 'exr')\n",
    "    \n",
    "def convert_exr_to_png(filename):\n",
    "    cmd = [\"convert\", filename, '-colorspace', 'RGB', '-colorspace', 'sRGB', filename.replace('exr', 'jpg')]\n",
    "    cmd_out = subprocess.run(cmd, check=True, env=my_env)\n",
    "    \n",
    "def clean_up(filename):\n",
    "    os.remove(filename)\n",
    "    \n",
    "def generate_sample(master_doc, x, z, angle, pose_id):\n",
    "    # generate xml scene string\n",
    "    scene_str = get_scene_xml_string(master_doc, x, z, angle, pose_id)\n",
    "    # save scene as file\n",
    "    scene_file_name = save_scene(scene_str, pose_id)\n",
    "    # render scene to exr\n",
    "    result_file_name = render_scene(scene_file_name)\n",
    "    # convert to png\n",
    "    convert_exr_to_png(result_file_name)\n",
    "    # delete exr\n",
    "    clean_up(result_file_name)"
   ]
  },
  {
   "cell_type": "code",
   "execution_count": 9,
   "metadata": {},
   "outputs": [
    {
     "name": "stderr",
     "output_type": "stream",
     "text": [
      "100%|██████████| 200/200 [09:44<00:00,  2.92s/it]\n"
     ]
    }
   ],
   "source": [
    "for i in tqdm(range(SAMPLES)):\n",
    "    x = random.uniform(X_MIN, X_MAX)\n",
    "    z = random.uniform(Z_MIN, Z_MAX)\n",
    "    angle = random.uniform(ANGLE_MIN, ANGLE_MAX)\n",
    "    pose_id = random.randint(POSE_ID_MIN, POSE_ID_MAX - 1)\n",
    "    \n",
    "    generate_sample(master_doc, x, z, angle, pose_id)"
   ]
  },
  {
   "cell_type": "code",
   "execution_count": 22,
   "metadata": {},
   "outputs": [],
   "source": [
    "generate_sample(master_doc, x, z, angle, 1)"
   ]
  },
  {
   "cell_type": "code",
   "execution_count": null,
   "metadata": {},
   "outputs": [],
   "source": []
  }
 ],
 "metadata": {
  "kernelspec": {
   "display_name": "Python [conda env:masterThesis] *",
   "language": "python",
   "name": "conda-env-masterThesis-py"
  },
  "language_info": {
   "codemirror_mode": {
    "name": "ipython",
    "version": 3
   },
   "file_extension": ".py",
   "mimetype": "text/x-python",
   "name": "python",
   "nbconvert_exporter": "python",
   "pygments_lexer": "ipython3",
   "version": "3.6.9"
  }
 },
 "nbformat": 4,
 "nbformat_minor": 4
}
