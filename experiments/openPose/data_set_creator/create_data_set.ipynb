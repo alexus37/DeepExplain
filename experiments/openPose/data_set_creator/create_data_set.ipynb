{
 "cells": [
  {
   "cell_type": "code",
   "execution_count": 99,
   "metadata": {},
   "outputs": [],
   "source": [
    "import xml.dom.minidom\n",
    "import uuid\n",
    "import subprocess\n",
    "import os\n",
    "from tqdm import tqdm\n",
    "import random \n",
    "import shutil "
   ]
  },
  {
   "cell_type": "code",
   "execution_count": 101,
   "metadata": {},
   "outputs": [],
   "source": [
    "# consts\n",
    "SCENE_FILE_MASTER = 'master.xml'\n",
    "DATA_SET_ROOT = '/home/ax/master/2019_02/masterThesis/DeepExplain/experiments/data/generated'\n",
    "master_doc = xml.dom.minidom.parse(SCENE_FILE_MASTER)\n",
    "SAMPLES = 10\n",
    "X_MIN = -100\n",
    "X_MAX = 100\n",
    "Z_MIN = -1000\n",
    "Z_MAX = 0\n",
    "ANGLE_MIN = -60\n",
    "ANGLE_MAX = 60\n",
    "\n",
    "master_requirements = ['RUST_3d_Low1.serialized', 'RUST_3d_Low1_Difuse.jpg', 'RUST_3d_Low1_Bump.jpg']\n",
    "\n",
    "for file in master_requirements:\n",
    "    shutil.copy(file, f'{DATA_SET_ROOT}/{file}')\n",
    "# requirements for mitsuba\n",
    "my_env = os.environ.copy()\n",
    "my_env[\"LD_LIBRARY_PATH\"] = \"/home/ax/Programs/mitsuba/dist:\" + my_env[\"LD_LIBRARY_PATH\"]\n",
    "my_env[\"PATH\"] = \"/home/ax/Programs/mitsuba/dist:\" + my_env[\"PATH\"]"
   ]
  },
  {
   "cell_type": "code",
   "execution_count": 102,
   "metadata": {},
   "outputs": [],
   "source": [
    "\n",
    "\n",
    "# compute a scene string\n",
    "def get_scene_xml_string(doc, x, z, angle):\n",
    "    \n",
    "    shape_node_human = doc.getElementsByTagName('shape')[0]\n",
    "    transform_node = shape_node_human.getElementsByTagName('transform')[0]\n",
    "    translation_node = transform_node.getElementsByTagName('translate')[0]\n",
    "    rotation_node = transform_node.getElementsByTagName('rotate')[0]\n",
    "    \n",
    "    translation_node.setAttribute('z', str(z)) \n",
    "    translation_node.setAttribute('x', str(x))\n",
    "    rotation_node.setAttribute('angle', str(angle))\n",
    "    \n",
    "    shape_node_rect = doc.getElementsByTagName('shape')[1]\n",
    "    transform_node = shape_node_rect.getElementsByTagName('transform')[0]\n",
    "    translation_node = transform_node.getElementsByTagName('translate')[1]\n",
    "    rotation_node = transform_node.getElementsByTagName('rotate')[0]\n",
    "    \n",
    "    translation_node.setAttribute('z', str(z)) \n",
    "    translation_node.setAttribute('x', str(x))\n",
    "    rotation_node.setAttribute('angle', str(angle))\n",
    "    \n",
    "    return doc.toxml()\n",
    "\n",
    "# save the scene to file\n",
    "def save_scene(scene_str, path=DATA_SET_ROOT):\n",
    "    file_name = f'{path}/a_{uuid.uuid4()}.xml'\n",
    "    with open(file_name, \"w\") as f:\n",
    "        f.write(scene_str)\n",
    "    return file_name\n",
    "\n",
    "# \n",
    "def render_scene(filename):\n",
    "    cmd = [\"/home/ax/Programs/mitsuba/build/release/mitsuba/mitsuba\", filename]\n",
    "    cmd_out = subprocess.run(cmd, check=True, env=my_env)\n",
    "    return filename.replace('xml', 'exr')\n",
    "    \n",
    "def convert_exr_to_png(filename):\n",
    "    cmd = [\"convert\", filename, '-colorspace', 'RGB', '-colorspace', 'sRGB', filename.replace('exr', 'png')]\n",
    "    cmd_out = subprocess.run(cmd, check=True, env=my_env)\n",
    "    \n",
    "def clean_up(filename):\n",
    "    os.remove(filename)\n",
    "    \n",
    "def generate_sample(master_doc, x, z, angle):\n",
    "    # generate xml scene string\n",
    "    scene_str = get_scene_xml_string(master_doc, x, z, angle)\n",
    "    # save scene as file\n",
    "    scene_file_name = save_scene(scene_str)\n",
    "    # render scene to exr\n",
    "    result_file_name = render_scene(scene_file_name)\n",
    "    # convert to png\n",
    "    convert_exr_to_png(result_file_name)\n",
    "    # delete exr\n",
    "    clean_up(result_file_name)"
   ]
  },
  {
   "cell_type": "code",
   "execution_count": 103,
   "metadata": {},
   "outputs": [
    {
     "name": "stderr",
     "output_type": "stream",
     "text": [
      "\n",
      "  0%|          | 0/10 [00:00<?, ?it/s]\u001b[A\n",
      " 10%|█         | 1/10 [00:12<01:52, 12.49s/it]\u001b[A\n",
      " 20%|██        | 2/10 [00:18<01:23, 10.49s/it]\u001b[A\n",
      " 30%|███       | 3/10 [00:24<01:04,  9.19s/it]\u001b[A\n",
      " 40%|████      | 4/10 [00:29<00:46,  7.82s/it]\u001b[A\n",
      " 50%|█████     | 5/10 [00:34<00:34,  6.96s/it]\u001b[A\n",
      " 60%|██████    | 6/10 [00:38<00:24,  6.25s/it]\u001b[A\n",
      " 70%|███████   | 7/10 [00:43<00:17,  5.80s/it]\u001b[A\n",
      " 80%|████████  | 8/10 [00:48<00:10,  5.50s/it]\u001b[A\n",
      " 90%|█████████ | 9/10 [00:52<00:05,  5.27s/it]\u001b[A\n",
      "100%|██████████| 10/10 [00:57<00:00,  5.75s/it]\u001b[A\n"
     ]
    }
   ],
   "source": [
    "for i in tqdm(range(SAMPLES)):\n",
    "    x = random.uniform(X_MIN, X_MAX)\n",
    "    z = random.uniform(Z_MIN, Z_MAX)\n",
    "    angle = random.uniform(ANGLE_MIN, ANGLE_MAX)\n",
    "    generate_sample(master_doc, x, z, angle)"
   ]
  },
  {
   "cell_type": "code",
   "execution_count": null,
   "metadata": {},
   "outputs": [],
   "source": []
  }
 ],
 "metadata": {
  "kernelspec": {
   "display_name": "Python [conda env:masterThesis] *",
   "language": "python",
   "name": "conda-env-masterThesis-py"
  },
  "language_info": {
   "codemirror_mode": {
    "name": "ipython",
    "version": 3
   },
   "file_extension": ".py",
   "mimetype": "text/x-python",
   "name": "python",
   "nbconvert_exporter": "python",
   "pygments_lexer": "ipython3",
   "version": "3.6.9"
  }
 },
 "nbformat": 4,
 "nbformat_minor": 4
}
