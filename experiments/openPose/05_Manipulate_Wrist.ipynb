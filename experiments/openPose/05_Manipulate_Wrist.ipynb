{
 "cells": [
  {
   "cell_type": "markdown",
   "metadata": {
    "lines_to_next_cell": 2
   },
   "source": [
    "# Manipulate position of wrist\n",
    "\n",
    "This notebook tries to change the output of the openpose network to get the wrist a \n",
    "wanted position"
   ]
  },
  {
   "cell_type": "code",
   "execution_count": 2,
   "metadata": {},
   "outputs": [
    {
     "name": "stdout",
     "output_type": "stream",
     "text": [
      "The autoreload extension is already loaded. To reload it, use:\n",
      "  %reload_ext autoreload\n"
     ]
    }
   ],
   "source": [
    "%load_ext autoreload\n",
    "%autoreload 2\n",
    "# imports\n",
    "import logging\n",
    "import os\n",
    "import sys\n",
    "\n",
    "import cv2\n",
    "import numpy as np\n",
    "from matplotlib import pyplot as plt\n",
    "\n",
    "from plot_utils import plot_vector_field\n",
    "from tf_pose import common\n",
    "from tf_pose.common import CocoPart\n",
    "from tf_pose.estimator import PoseEstimator, TfPoseEstimator\n",
    "from tf_pose.networks import get_graph_path\n",
    "\n",
    "\n",
    "os.environ[\"TF_CPP_MIN_LOG_LEVEL\"] = \"3\"\n",
    "logging.getLogger(\"tensorflow\").setLevel(logging.CRITICAL)\n",
    "logging.getLogger('TfPoseEstimatorRun').setLevel(logging.ERROR)\n",
    "logging.getLogger('DeepExplain').setLevel(logging.ERROR)\n",
    "logging.getLogger('TfPoseEstimator').setLevel(logging.ERROR)"
   ]
  },
  {
   "cell_type": "code",
   "execution_count": null,
   "metadata": {},
   "outputs": [],
   "source": [
    "# params 432, 368\n",
    "w, h = 432, 368\n",
    "\n",
    "image_path = '../data/images/muscle.jpg'\n",
    "model = 'cmu'\n",
    "resize_out_ratio = 2.0\n",
    "image = common.read_imgfile(image_path, w, h)\n",
    "COCO_id = CocoPart.RWrist.value\n",
    "JOINT_id = 16  # right lower arm"
   ]
  },
  {
   "cell_type": "code",
   "execution_count": null,
   "metadata": {},
   "outputs": [],
   "source": [
    "e = TfPoseEstimator(get_graph_path(model), target_size=(w, h), trt_bool=False)\n",
    "# compute with and without\n",
    "humans_original = e.inference(image, resize_to_default=(\n",
    "    w > 0 and h > 0), upsample_size=resize_out_ratio)"
   ]
  },
  {
   "cell_type": "code",
   "execution_count": null,
   "metadata": {},
   "outputs": [],
   "source": [
    "\n",
    "# position where to put the peak\n",
    "def modify_right_wrist(estimator, pos_x=20, pos_y=20):\n",
    "    # copy the required mats\n",
    "    peaks = np.copy(estimator.peaks)\n",
    "    heatMat = np.copy(estimator.heatMat)\n",
    "    pafMat = np.copy(estimator.pafMat)\n",
    "    eps = 0.0001\n",
    "\n",
    "    # CHANGE VLAUES OF THE PEAKS\n",
    "    # change PAF\n",
    "    # get pos of right ellow\n",
    "    elbow_x, elbow_y = np.unravel_index(peaks[:, :, CocoPart.RElbow.value].argmax(\n",
    "    ), peaks[:, :, CocoPart.RElbow.value].shape)\n",
    "    print(f'elbow pos x: {elbow_x}, y: {elbow_y}')\n",
    "\n",
    "    arm_vec = np.array([pos_x - elbow_x, pos_y - elbow_y]).astype('float64')\n",
    "    arm_vec /= np.linalg.norm(arm_vec)\n",
    "    print(f'armvec x: {arm_vec[0]}, y: {arm_vec[1]}')\n",
    "\n",
    "    pafMat[:, :, JOINT_id] = np.ones(shape=pafMat.shape[:2]) * arm_vec[0]\n",
    "    pafMat[:, :, JOINT_id + 1] = np.ones(shape=pafMat.shape[:2]) * arm_vec[1]\n",
    "\n",
    "    # change heat\n",
    "    cur_heat_max_val = np.max(heatMat[:, :, COCO_id])\n",
    "    heatMat[:, :, COCO_id] = np.zeros(shape=peaks.shape[:2])\n",
    "    heatMat[pos_y, pos_x, COCO_id] = cur_heat_max_val + eps\n",
    "\n",
    "    # change peak\n",
    "    cur_max = np.max(peaks[:, :, COCO_id])\n",
    "    peaks[:, :, COCO_id] = np.zeros(shape=peaks.shape[:2])\n",
    "    peaks[pos_y, pos_x, COCO_id] = cur_max + eps\n",
    "    return peaks, heatMat, pafMat\n",
    "\n",
    "\n",
    "peaks, heatMat, pafMat = modify_right_wrist(e)\n",
    "humans_modified = PoseEstimator.estimate_paf(peaks, heatMat, pafMat)"
   ]
  },
  {
   "cell_type": "code",
   "execution_count": null,
   "metadata": {
    "lines_to_next_cell": 2
   },
   "outputs": [],
   "source": [
    "part = humans_original[0].body_parts[COCO_id]\n",
    "print(f'ORIG: score: {part.score} x: {part.x} y: {part.y} ')\n",
    "part = humans_modified[0].body_parts[COCO_id]\n",
    "print(f'OCCULED: score: {part.score} x: {part.x} y: {part.y} ')"
   ]
  },
  {
   "cell_type": "code",
   "execution_count": null,
   "metadata": {},
   "outputs": [],
   "source": [
    "fig = plt.figure(figsize=(50, 25))\n",
    "a = fig.add_subplot(1, 3, 1)\n",
    "a.set_title('Different peak locations ORIG: RED, MODIFIED: BLUE')\n",
    "peak_orig = e.peaks[:, :, COCO_id]\n",
    "peak_black = peaks[:, :, COCO_id]\n",
    "\n",
    "comb_image = np.amax([peak_orig, peak_black], axis=0)\n",
    "comb_image[comb_image == np.max(peak_orig)] = 1.0\n",
    "comb_image[comb_image == np.max(peak_black)] = -1.0\n",
    "a.imshow(comb_image, cmap=plt.cm.seismic)\n",
    "\n",
    "# draw orig\n",
    "a = fig.add_subplot(1, 3, 2)\n",
    "image_result = TfPoseEstimator.draw_humans(\n",
    "    image, humans_original, imgcopy=True)\n",
    "a.set_title('Result ORIGNAL')\n",
    "plt.imshow(cv2.cvtColor(image_result, cv2.COLOR_BGR2RGB))\n",
    "\n",
    "# draw modified\n",
    "a = fig.add_subplot(1, 3, 3)\n",
    "image_result = TfPoseEstimator.draw_humans(\n",
    "    image, humans_modified, imgcopy=True)\n",
    "a.set_title('Result MODIFIED')\n",
    "plt.imshow(cv2.cvtColor(image_result, cv2.COLOR_BGR2RGB))"
   ]
  },
  {
   "cell_type": "code",
   "execution_count": null,
   "metadata": {},
   "outputs": [],
   "source": [
    "fig = plt.figure(figsize=(20, 10))\n",
    "ax = fig.add_subplot(1, 2, 1)\n",
    "ax.imshow(e.heatMat[:, :, COCO_id])\n",
    "\n",
    "ax = fig.add_subplot(1, 2, 2)\n",
    "ax.imshow(heatMat[:, :, COCO_id])"
   ]
  },
  {
   "cell_type": "code",
   "execution_count": null,
   "metadata": {},
   "outputs": [],
   "source": [
    "fig = plt.figure(figsize=(40, 20))\n",
    "ax = fig.add_subplot(1, 2, 1)\n",
    "\n",
    "U = np.copy(e.pafMat[:, :, JOINT_id]) * (-1)  # why do I need this minus one\n",
    "V = np.copy(e.pafMat[:, :, JOINT_id + 1])\n",
    "bgimg = cv2.resize(\n",
    "    image, (e.pafMat.shape[1], e.pafMat.shape[0]), interpolation=cv2.INTER_AREA)\n",
    "\n",
    "plot_vector_field(U, V, bgimg, ax, fig)\n",
    "\n",
    "ax = fig.add_subplot(1, 2, 2)\n",
    "U = np.copy(pafMat[:, :, JOINT_id]) * (-1)  # why do I need this minus one\n",
    "V = np.copy(pafMat[:, :, JOINT_id + 1])\n",
    "plot_vector_field(U, V, bgimg, ax, fig)\n"
   ]
  }
 ],
 "metadata": {
  "kernelspec": {
   "display_name": "Python [conda env:masterThesis] *",
   "language": "python",
   "name": "conda-env-masterThesis-py"
  },
  "language_info": {
   "codemirror_mode": {
    "name": "ipython",
    "version": 3
   },
   "file_extension": ".py",
   "mimetype": "text/x-python",
   "name": "python",
   "nbconvert_exporter": "python",
   "pygments_lexer": "ipython3",
   "version": "3.6.9"
  }
 },
 "nbformat": 4,
 "nbformat_minor": 4
}
