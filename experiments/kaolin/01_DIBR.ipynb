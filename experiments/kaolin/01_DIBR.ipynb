{
 "cells": [
  {
   "cell_type": "code",
   "execution_count": 89,
   "metadata": {},
   "outputs": [
    {
     "name": "stdout",
     "output_type": "stream",
     "text": [
      "The autoreload extension is already loaded. To reload it, use:\n",
      "  %reload_ext autoreload\n"
     ]
    },
    {
     "ename": "ImportError",
     "evalue": "cannot import name 'SoftRasterizer' from 'kaolin.graphics' (/home/ax/data/programs/kaolin/kaolin/graphics/__init__.py)",
     "output_type": "error",
     "traceback": [
      "\u001b[0;31m---------------------------------------------------------------------------\u001b[0m",
      "\u001b[0;31mImportError\u001b[0m                               Traceback (most recent call last)",
      "\u001b[0;32m<ipython-input-89-eb51bb0654f0>\u001b[0m in \u001b[0;36m<module>\u001b[0;34m\u001b[0m\n\u001b[1;32m      2\u001b[0m \u001b[0mget_ipython\u001b[0m\u001b[0;34m(\u001b[0m\u001b[0;34m)\u001b[0m\u001b[0;34m.\u001b[0m\u001b[0mrun_line_magic\u001b[0m\u001b[0;34m(\u001b[0m\u001b[0;34m'autoreload'\u001b[0m\u001b[0;34m,\u001b[0m \u001b[0;34m'2'\u001b[0m\u001b[0;34m)\u001b[0m\u001b[0;34m\u001b[0m\u001b[0;34m\u001b[0m\u001b[0m\n\u001b[1;32m      3\u001b[0m \u001b[0;34m\u001b[0m\u001b[0m\n\u001b[0;32m----> 4\u001b[0;31m \u001b[0;32mfrom\u001b[0m \u001b[0mkaolin\u001b[0m\u001b[0;34m.\u001b[0m\u001b[0mgraphics\u001b[0m \u001b[0;32mimport\u001b[0m \u001b[0mDIBRenderer\u001b[0m\u001b[0;34m,\u001b[0m \u001b[0mSoftRasterizer\u001b[0m\u001b[0;34m,\u001b[0m \u001b[0mNeuralMeshRenderer\u001b[0m\u001b[0;34m\u001b[0m\u001b[0;34m\u001b[0m\u001b[0m\n\u001b[0m\u001b[1;32m      5\u001b[0m \u001b[0;32mfrom\u001b[0m \u001b[0mkaolin\u001b[0m\u001b[0;34m.\u001b[0m\u001b[0mrep\u001b[0m \u001b[0;32mimport\u001b[0m \u001b[0mTriangleMesh\u001b[0m\u001b[0;34m\u001b[0m\u001b[0;34m\u001b[0m\u001b[0m\n\u001b[1;32m      6\u001b[0m \u001b[0;32mfrom\u001b[0m \u001b[0mkaolin\u001b[0m\u001b[0;34m.\u001b[0m\u001b[0mgraphics\u001b[0m\u001b[0;34m.\u001b[0m\u001b[0mdib_renderer\u001b[0m\u001b[0;34m.\u001b[0m\u001b[0mutils\u001b[0m\u001b[0;34m.\u001b[0m\u001b[0mmesh\u001b[0m \u001b[0;32mimport\u001b[0m \u001b[0mloadobj\u001b[0m\u001b[0;34m,\u001b[0m \u001b[0mface2pfmtx\u001b[0m\u001b[0;34m,\u001b[0m \u001b[0mloadobjtex\u001b[0m\u001b[0;34m\u001b[0m\u001b[0;34m\u001b[0m\u001b[0m\n",
      "\u001b[0;31mImportError\u001b[0m: cannot import name 'SoftRasterizer' from 'kaolin.graphics' (/home/ax/data/programs/kaolin/kaolin/graphics/__init__.py)"
     ]
    }
   ],
   "source": [
    "%load_ext autoreload\n",
    "%autoreload 2\n",
    "\n",
    "from kaolin.graphics import DIBRenderer\n",
    "from kaolin.rep import TriangleMesh\n",
    "from kaolin.graphics.dib_renderer.utils.mesh import loadobj, face2pfmtx, loadobjtex\n",
    "from kaolin.graphics.dib_renderer.utils.sphericalcoord import get_spherical_coords_x\n",
    "from kaolin.graphics.dib_renderer.utils.perspective import lookatnp, perspectiveprojectionnp\n",
    "\n",
    "\n",
    "import time\n",
    "import torch\n",
    "from torch.autograd import Variable\n",
    "\n",
    "import cv2\n",
    "import os\n",
    "import copy\n",
    "import imageio\n",
    "from matplotlib import pyplot as plt\n",
    "import numpy as np\n",
    "from PIL import Image\n",
    "import tqdm\n",
    "\n",
    "\n",
    "from torch_openpose.body import Body\n",
    "from torch_openpose import util\n",
    "import torch.nn as nn\n"
   ]
  },
  {
   "cell_type": "code",
   "execution_count": 88,
   "metadata": {},
   "outputs": [
    {
     "name": "stderr",
     "output_type": "stream",
     "text": [
      "/home/ax/miniconda3/lib/python3.7/site-packages/torch/nn/functional.py:2705: UserWarning: Default grid_sample and affine_grid behavior has changed to align_corners=False since 1.3.0. Please specify align_corners=True if the old behavior is desired. See the documentation of grid_sample for details.\n",
      "  warnings.warn(\"Default grid_sample and affine_grid behavior has changed \"\n"
     ]
    },
    {
     "ename": "AttributeError",
     "evalue": "'SoftRenderer' object has no attribute 'transform'",
     "output_type": "error",
     "traceback": [
      "\u001b[0;31m---------------------------------------------------------------------------\u001b[0m",
      "\u001b[0;31mAttributeError\u001b[0m                            Traceback (most recent call last)",
      "\u001b[0;32m<ipython-input-88-f1c5fe952e4c>\u001b[0m in \u001b[0;36m<module>\u001b[0;34m\u001b[0m\n\u001b[1;32m     39\u001b[0m \u001b[0;34m\u001b[0m\u001b[0m\n\u001b[1;32m     40\u001b[0m \u001b[0msoftRenderer\u001b[0m \u001b[0;34m=\u001b[0m \u001b[0mSoftRenderer\u001b[0m\u001b[0;34m(\u001b[0m\u001b[0mcamera_mode\u001b[0m\u001b[0;34m=\u001b[0m\u001b[0;34m\"look_at\"\u001b[0m\u001b[0;34m,\u001b[0m \u001b[0mdevice\u001b[0m\u001b[0;34m=\u001b[0m\u001b[0;34m\"cuda:0\"\u001b[0m\u001b[0;34m)\u001b[0m\u001b[0;34m\u001b[0m\u001b[0;34m\u001b[0m\u001b[0m\n\u001b[0;32m---> 41\u001b[0;31m \u001b[0msoftRenderer\u001b[0m\u001b[0;34m.\u001b[0m\u001b[0mtransform\u001b[0m\u001b[0;34m.\u001b[0m\u001b[0mset_eyes_from_angles\u001b[0m\u001b[0;34m(\u001b[0m\u001b[0mCAMERA_DISTANCE\u001b[0m\u001b[0;34m,\u001b[0m \u001b[0mCAMERA_ELEVATION\u001b[0m\u001b[0;34m,\u001b[0m \u001b[0;36m90\u001b[0m\u001b[0;34m)\u001b[0m\u001b[0;34m\u001b[0m\u001b[0;34m\u001b[0m\u001b[0m\n\u001b[0m\u001b[1;32m     42\u001b[0m \u001b[0msoft_image\u001b[0m \u001b[0;34m=\u001b[0m \u001b[0msoftRenderer\u001b[0m\u001b[0;34m.\u001b[0m\u001b[0mforward\u001b[0m\u001b[0;34m(\u001b[0m\u001b[0mvertices\u001b[0m\u001b[0;34m,\u001b[0m \u001b[0mfaces\u001b[0m\u001b[0;34m,\u001b[0m \u001b[0mtexture\u001b[0m\u001b[0;34m)\u001b[0m\u001b[0;34m\u001b[0m\u001b[0;34m\u001b[0m\u001b[0m\n\u001b[1;32m     43\u001b[0m \u001b[0msoft_image\u001b[0m \u001b[0;34m=\u001b[0m \u001b[0msoft_image\u001b[0m\u001b[0;34m.\u001b[0m\u001b[0mpermute\u001b[0m\u001b[0;34m(\u001b[0m\u001b[0;36m1\u001b[0m\u001b[0;34m,\u001b[0m \u001b[0;36m2\u001b[0m\u001b[0;34m,\u001b[0m \u001b[0;36m0\u001b[0m\u001b[0;34m)\u001b[0m\u001b[0;34m.\u001b[0m\u001b[0mcpu\u001b[0m\u001b[0;34m(\u001b[0m\u001b[0;34m)\u001b[0m\u001b[0;34m.\u001b[0m\u001b[0mnumpy\u001b[0m\u001b[0;34m(\u001b[0m\u001b[0;34m)\u001b[0m\u001b[0;34m\u001b[0m\u001b[0;34m\u001b[0m\u001b[0m\n",
      "\u001b[0;32m~/miniconda3/lib/python3.7/site-packages/torch/nn/modules/module.py\u001b[0m in \u001b[0;36m__getattr__\u001b[0;34m(self, name)\u001b[0m\n\u001b[1;32m    574\u001b[0m                 \u001b[0;32mreturn\u001b[0m \u001b[0mmodules\u001b[0m\u001b[0;34m[\u001b[0m\u001b[0mname\u001b[0m\u001b[0;34m]\u001b[0m\u001b[0;34m\u001b[0m\u001b[0;34m\u001b[0m\u001b[0m\n\u001b[1;32m    575\u001b[0m         raise AttributeError(\"'{}' object has no attribute '{}'\".format(\n\u001b[0;32m--> 576\u001b[0;31m             type(self).__name__, name))\n\u001b[0m\u001b[1;32m    577\u001b[0m \u001b[0;34m\u001b[0m\u001b[0m\n\u001b[1;32m    578\u001b[0m     \u001b[0;32mdef\u001b[0m \u001b[0m__setattr__\u001b[0m\u001b[0;34m(\u001b[0m\u001b[0mself\u001b[0m\u001b[0;34m,\u001b[0m \u001b[0mname\u001b[0m\u001b[0;34m,\u001b[0m \u001b[0mvalue\u001b[0m\u001b[0;34m)\u001b[0m\u001b[0;34m:\u001b[0m\u001b[0;34m\u001b[0m\u001b[0;34m\u001b[0m\u001b[0m\n",
      "\u001b[0;31mAttributeError\u001b[0m: 'SoftRenderer' object has no attribute 'transform'"
     ]
    }
   ],
   "source": [
    "IMAGE_WIDTH, IMAGE_HEIGHT = 432, 368\n",
    "CAMERA_DISTANCE = 2\n",
    "CAMERA_ELEVATION = 10\n",
    "device = torch.device(\"cuda:0\" if torch.cuda.is_available() else \"cpu\")\n",
    "\n",
    "mesh = TriangleMesh.from_obj('meshes/TShirt.obj')\n",
    "vertices = mesh.vertices.cuda()\n",
    "faces = mesh.faces.int().cuda()\n",
    "uv = mesh.uvs.cuda()\n",
    "\n",
    "\n",
    "# Expand such that batch size = 1\n",
    "vertices = vertices.unsqueeze(0)\n",
    "vertices_max = vertices.max()\n",
    "vertices_min = vertices.min()\n",
    "vertices_middle = (vertices_max + vertices_min) / 2.\n",
    "vertices = (vertices - vertices_middle) * MESH_SIZE\n",
    "\n",
    "#uv = (uv * 2 ) - 1 \n",
    "uv = uv.unsqueeze(0)\n",
    "\n",
    "# Load image as numpy array\n",
    "texture = np.array(Image.open('texture/UV.jpg'))\n",
    "texture = torch.from_numpy(texture).cuda()\n",
    "texture = texture.float() / 255.0\n",
    "texture = texture.permute(2, 0, 1).unsqueeze(0)\n",
    "\n",
    "\n",
    "dibRenderer = DIBRenderer(IMAGE_WIDTH, IMAGE_HEIGHT, mode='Lambertian')\n",
    "dibRenderer.set_look_at_parameters([90],\n",
    "                                        [CAMERA_ELEVATION],\n",
    "                                        [CAMERA_DISTANCE])\n",
    "\n",
    "predictions, _, _ = renderer(points=[vertices, faces.long()],\n",
    "                                         uv_bxpx2=uv,\n",
    "                                         texture_bx3xthxtw=texture)\n",
    "dib_image = predictions.detach().cpu().numpy()[0]\n",
    "\n",
    "\n",
    "softRenderer = SoftRenderer(camera_mode=\"look_at\", device=\"cuda:0\")\n",
    "softRenderer.transform.set_eyes_from_angles(CAMERA_DISTANCE, CAMERA_ELEVATION, 90)\n",
    "soft_image = softRenderer.forward(vertices, faces, texture)\n",
    "soft_image = soft_image.permute(1, 2, 0).cpu().numpy()\n",
    "\n",
    "\n",
    "fig = plt.figure(figsize=(30, 10))\n",
    "ax = fig.add_subplot(1, 2, 1)\n",
    "ax.imshow(dib_image)\n",
    "ax.axis('off')\n",
    "\n",
    "ax = fig.add_subplot(1, 3, 2)\n",
    "ax.imshow(soft_image)\n",
    "ax.axis('off')"
   ]
  },
  {
   "cell_type": "code",
   "execution_count": 80,
   "metadata": {},
   "outputs": [
    {
     "name": "stderr",
     "output_type": "stream",
     "text": [
      "Drawing: 100%|██████████| 90/90 [00:06<00:00, 14.93it/s]\n"
     ]
    }
   ],
   "source": [
    "loop = tqdm.tqdm(list(range(0, 360, 4)))\n",
    "loop.set_description('Drawing')\n",
    "\n",
    "os.makedirs('output', exist_ok=True)\n",
    "writer = imageio.get_writer(os.path.join('output', 'example.gif'), mode='I')\n",
    "for azimuth in loop:\n",
    "    renderer.set_look_at_parameters([90 - azimuth],\n",
    "                                        [CAMERA_ELEVATION],\n",
    "                                        [CAMERA_DISTANCE])\n",
    "    \n",
    "    predictions, _, _ = renderer(points=[vertices, faces.long()],\n",
    "                                         uv_bxpx2=uv,\n",
    "                                         texture_bx3xthxtw=texture)\n",
    "    image = predictions.detach().cpu().numpy()[0]\n",
    "    writer.append_data((image * 255).astype(np.uint8))\n",
    "\n",
    "writer.close()\n"
   ]
  },
  {
   "cell_type": "code",
   "execution_count": 16,
   "metadata": {},
   "outputs": [
    {
     "name": "stdout",
     "output_type": "stream",
     "text": [
      "tensor(-0.3427, device='cuda:0')\n",
      "tensor(0.0076)\n"
     ]
    }
   ],
   "source": [
    "print(torch.min(uv))\n",
    "print(torch.min(mesh.uvs))"
   ]
  },
  {
   "cell_type": "code",
   "execution_count": 51,
   "metadata": {},
   "outputs": [],
   "source": [
    "renderer = DIBRenderer(IMAGE_WIDTH, IMAGE_HEIGHT, mode='Lambertian')\n",
    "model = Model(vertices.clone()).cuda()"
   ]
  },
  {
   "cell_type": "code",
   "execution_count": 62,
   "metadata": {},
   "outputs": [
    {
     "name": "stdout",
     "output_type": "stream",
     "text": [
      "0.01611640490591526\n",
      "update mean: 0.0\n",
      "update mean: 0.0\n",
      "tensor([[[0., 0., 0.],\n",
      "         [0., 0., 0.],\n",
      "         [0., 0., 0.],\n",
      "         ...,\n",
      "         [0., 0., 0.],\n",
      "         [0., 0., 0.],\n",
      "         [0., 0., 0.]]], device='cuda:0')\n",
      "torch.Size([1, 6449, 3])\n",
      "0.0\n",
      "0.0\n"
     ]
    },
    {
     "name": "stderr",
     "output_type": "stream",
     "text": [
      "/home/ax/miniconda3/lib/python3.7/site-packages/torch/nn/functional.py:2705: UserWarning: Default grid_sample and affine_grid behavior has changed to align_corners=False since 1.3.0. Please specify align_corners=True if the old behavior is desired. See the documentation of grid_sample for details.\n",
      "  warnings.warn(\"Default grid_sample and affine_grid behavior has changed \"\n"
     ]
    },
    {
     "data": {
      "image/png": "[encoded data removed]",
      "text/plain": [
       "<Figure size 432x288 with 1 Axes>"
      ]
     },
     "metadata": {
      "needs_background": "light"
     },
     "output_type": "display_data"
    }
   ],
   "source": [
    "renderer.set_look_at_parameters([170], [30], [0.5])\n",
    "optimizer = torch.optim.Adam(model.parameters(), 0.001, betas=(0.5, 0.99))\n",
    "optimizer.zero_grad()\n",
    "new_vertices = model() \n",
    "#model.update.register_hook(lambda grad: print(f\"update mean: {grad.mean()}\"))\n",
    "rgb, _, _ = renderer(points=[new_vertices, faces.long()],\n",
    "                             uv_bxpx2=uv,\n",
    "                             texture_bx3xthxtw=texture)\n",
    "\n",
    "#rgb.register_hook(lambda grad: print(f\"rgb mean: {grad.mean()}\"))\n",
    "loss = rgb.mean()\n",
    "print(loss.item())\n",
    "\n",
    "loss.backward(retain_graph=True)\n",
    "print(model.update.grad)\n",
    "print(model.update.grad.shape)\n",
    "gradient_np = model.update.grad.detach().cpu().numpy()[0]\n",
    "gradient_line = np.sum(np.abs(gradient_np), axis=1)\n",
    "\n",
    "\n",
    "plt.plot(gradient_line)\n",
    "print(np.max(gradient_line))\n",
    "print(np.min(gradient_line))\n"
   ]
  },
  {
   "cell_type": "code",
   "execution_count": 28,
   "metadata": {},
   "outputs": [
    {
     "name": "stdout",
     "output_type": "stream",
     "text": [
      "vertices.requires_grad: True\n",
      "faces.requires_grad: False\n",
      "uv.requires_grad: False\n",
      "texture.requires_grad: False\n",
      "None\n"
     ]
    },
    {
     "name": "stderr",
     "output_type": "stream",
     "text": [
      "/home/ax/miniconda3/lib/python3.7/site-packages/torch/nn/functional.py:2705: UserWarning: Default grid_sample and affine_grid behavior has changed to align_corners=False since 1.3.0. Please specify align_corners=True if the old behavior is desired. See the documentation of grid_sample for details.\n",
      "  warnings.warn(\"Default grid_sample and affine_grid behavior has changed \"\n"
     ]
    }
   ],
   "source": [
    "renderer.set_look_at_parameters([170],\n",
    "                                [30],\n",
    "                                [0.5])\n",
    "\n",
    "print(\"vertices.requires_grad:\", vertices.requires_grad)\n",
    "print(\"faces.requires_grad:\", faces.requires_grad)\n",
    "print(\"uv.requires_grad:\", uv.requires_grad)\n",
    "print(\"texture.requires_grad:\", texture.requires_grad)\n",
    "rgb, _, _ = renderer(points=[vertices, faces.long()],\n",
    "                             uv_bxpx2=uv,\n",
    "                             texture_bx3xthxtw=texture)\n",
    "\n",
    "rgb.mean().backward(retain_graph=True)\n",
    "print(vertices)\n",
    "# print(\"rgb.requires_grad:\", rgb.requires_grad)\n",
    "\n",
    "# PERMUTE_BGR = [2, 1, 0]\n",
    "# rendering_torch_BGR = rgb[:, :, :, PERMUTE_BGR]\n",
    "# rendering_torch_input = rendering_torch_BGR.permute((0, 3, 1, 2)).float()  - 0.5\n",
    "# print(\"rendering_torch_input.requires_grad:\", rendering_torch_input.requires_grad)\n",
    "\n",
    "# paf, heatmap = body_estimation.model(rendering_torch_input)\n",
    "# print(\"paf.requires_grad:\", paf.requires_grad)\n",
    "# print(\"heatmap.requires_grad:\", paf.requires_grad)\n",
    "# #heatmap_wrist = heatmap[0, :, :, :]\n",
    "# heatmap.register_hook(lambda grad: print(\"Gradients less than zero:\", bool((grad < 0).any())))  \n",
    "\n",
    "# heatmap.mean().backward(retain_graph=True)\n",
    "# print(heatmap.grad)"
   ]
  },
  {
   "cell_type": "code",
   "execution_count": 29,
   "metadata": {},
   "outputs": [],
   "source": [
    "heatmap_avg, paf_avg = body_estimation.compute_heatmap_paf_avg(rendering_torch_input, ORIG_SHAPE)\n",
    "candidate, subset = body_estimation.get_pose(heatmap_avg, paf_avg, ORIG_SHAPE)"
   ]
  },
  {
   "cell_type": "code",
   "execution_count": 40,
   "metadata": {},
   "outputs": [
    {
     "name": "stderr",
     "output_type": "stream",
     "text": [
      "Clipping input data to the valid range for imshow with RGB data ([0..1] for floats or [0..255] for integers).\n"
     ]
    },
    {
     "data": {
      "text/plain": [
       "Text(0.5, 1.0, 'front')"
      ]
     },
     "execution_count": 40,
     "metadata": {},
     "output_type": "execute_result"
    },
    {
     "data": {
      "image/png": "[encoded data removed]",
      "text/plain": [
       "<Figure size 2160x720 with 1 Axes>"
      ]
     },
     "metadata": {
      "needs_background": "light"
     },
     "output_type": "display_data"
    }
   ],
   "source": [
    "canvas = copy.deepcopy(image)\n",
    "canvas = util.draw_bodypose(canvas, candidate, subset)\n",
    "\n",
    "fig = plt.figure(figsize=(30, 10))\n",
    "ax = fig.add_subplot(1, 1, 1)\n",
    "ax.imshow(canvas)\n",
    "ax.axis('off')\n",
    "ax.set_title('front')"
   ]
  },
  {
   "cell_type": "code",
   "execution_count": 41,
   "metadata": {},
   "outputs": [],
   "source": [
    "paf, heatmap = body_estimation.model(rendering_torch_input)"
   ]
  },
  {
   "cell_type": "code",
   "execution_count": 42,
   "metadata": {},
   "outputs": [],
   "source": [
    "# get r shoudler\n",
    "heatmap_wrist = heatmap[:, 2, :, :]"
   ]
  },
  {
   "cell_type": "code",
   "execution_count": 46,
   "metadata": {},
   "outputs": [],
   "source": [
    "heatmap_wrist.mean().backward()"
   ]
  },
  {
   "cell_type": "code",
   "execution_count": 48,
   "metadata": {},
   "outputs": [
    {
     "name": "stdout",
     "output_type": "stream",
     "text": [
      "None\n"
     ]
    }
   ],
   "source": [
    "print(vertices.grad)"
   ]
  },
  {
   "cell_type": "code",
   "execution_count": null,
   "metadata": {},
   "outputs": [],
   "source": []
  }
 ],
 "metadata": {
  "kernelspec": {
   "display_name": "Python 3.7",
   "language": "python",
   "name": "python3"
  },
  "language_info": {
   "codemirror_mode": {
    "name": "ipython",
    "version": 3
   },
   "file_extension": ".py",
   "mimetype": "text/x-python",
   "name": "python",
   "nbconvert_exporter": "python",
   "pygments_lexer": "ipython3",
   "version": "3.7.6"
  }
 },
 "nbformat": 4,
 "nbformat_minor": 4
}
